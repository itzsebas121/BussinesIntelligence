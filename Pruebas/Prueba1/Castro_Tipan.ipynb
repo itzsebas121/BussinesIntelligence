{
 "cells": [
  {
   "cell_type": "markdown",
   "id": "e02d49a7",
   "metadata": {},
   "source": [
    "## Prueba 1\n",
    "Integrantes:\n",
    "- Bryan Castro\n",
    "- Sebastián Tipán"
   ]
  },
  {
   "cell_type": "markdown",
   "id": "7418893f",
   "metadata": {},
   "source": [
    "Utilice el dataset titanic.xlsx, para clasificar o predecir qué pasajero va a sobrevivir. \n",
    "\n",
    "1. Actividades de preprocesamiento\n",
    "    1. Analice los atributos y datos del dataset\n",
    "        1. Saque estadísticas\n",
    "        2. Genere gráficas\n",
    "        3. Valores perdidos\n",
    "        4. Son necesarios todos los atributos para aplicar los algoritmos\n",
    "        5. Si va a eliminar algún atributo, justifíquelo\n",
    "    2. Si encuentra valores perdidos o faltantes, deberían ser eliminados o sustituidos. Justifique su decisión.\n",
    "2. Utilice el algoritmo de DecisionTreeClassifier y determine cuál de los 3 criterios es mejor en la clasificación, comparando el score de cada uno.\n",
    "3. Para cada uno de los siguientes algoritmos de aprendizaje, calcule el score y determine el mejor modelo.\n",
    "    - Logistic Regression\n",
    "    - Random Forest Classification\n",
    "    - Support Vector Machine (SVM)\n",
    "    - Native bayes\n",
    "    - Adaptive Boosting (AdaBoost)\n",
    "    - Gradient Boosted Trees\n",
    "    - Extreme Gradient Boosting (XGBoost)\n",
    "    - K-Nearest Neighbors Classification(KNN)"
   ]
  },
  {
   "cell_type": "code",
   "execution_count": 51,
   "id": "27c355a8",
   "metadata": {},
   "outputs": [],
   "source": [
    "# Importar librerias\n",
    "import pandas as pd \n",
    "import numpy as np\n",
    "from matplotlib import pyplot as plt\n",
    "import seaborn as sns\n",
    "from sklearn.tree import DecisionTreeClassifier"
   ]
  },
  {
   "cell_type": "code",
   "execution_count": 52,
   "id": "97028eac",
   "metadata": {},
   "outputs": [
    {
     "name": "stdout",
     "output_type": "stream",
     "text": [
      "Dimensiones: (1309, 12)\n"
     ]
    },
    {
     "name": "stderr",
     "output_type": "stream",
     "text": [
      "c:\\Users\\Dev\\AppData\\Local\\Programs\\Python\\Python313\\Lib\\site-packages\\openpyxl\\styles\\stylesheet.py:237: UserWarning: Workbook contains no default style, apply openpyxl's default\n",
      "  warn(\"Workbook contains no default style, apply openpyxl's default\")\n"
     ]
    },
    {
     "data": {
      "text/html": [
       "<div>\n",
       "<style scoped>\n",
       "    .dataframe tbody tr th:only-of-type {\n",
       "        vertical-align: middle;\n",
       "    }\n",
       "\n",
       "    .dataframe tbody tr th {\n",
       "        vertical-align: top;\n",
       "    }\n",
       "\n",
       "    .dataframe thead th {\n",
       "        text-align: right;\n",
       "    }\n",
       "</style>\n",
       "<table border=\"1\" class=\"dataframe\">\n",
       "  <thead>\n",
       "    <tr style=\"text-align: right;\">\n",
       "      <th></th>\n",
       "      <th>Passenger Class</th>\n",
       "      <th>Name</th>\n",
       "      <th>Sex</th>\n",
       "      <th>Age</th>\n",
       "      <th>No of Siblings or Spouses on Board</th>\n",
       "      <th>No of Parents or Children on Board</th>\n",
       "      <th>Ticket Number</th>\n",
       "      <th>Passenger Fare</th>\n",
       "      <th>Cabin</th>\n",
       "      <th>Port of Embarkation</th>\n",
       "      <th>Life Boat</th>\n",
       "      <th>Survived</th>\n",
       "    </tr>\n",
       "  </thead>\n",
       "  <tbody>\n",
       "    <tr>\n",
       "      <th>0</th>\n",
       "      <td>First</td>\n",
       "      <td>Allen, Miss. Elisabeth Walton</td>\n",
       "      <td>Female</td>\n",
       "      <td>29.0000</td>\n",
       "      <td>0</td>\n",
       "      <td>0</td>\n",
       "      <td>24160</td>\n",
       "      <td>211.3375</td>\n",
       "      <td>B5</td>\n",
       "      <td>Southampton</td>\n",
       "      <td>2</td>\n",
       "      <td>Yes</td>\n",
       "    </tr>\n",
       "    <tr>\n",
       "      <th>1</th>\n",
       "      <td>First</td>\n",
       "      <td>Allison, Master. Hudson Trevor</td>\n",
       "      <td>Male</td>\n",
       "      <td>0.9167</td>\n",
       "      <td>1</td>\n",
       "      <td>2</td>\n",
       "      <td>113781</td>\n",
       "      <td>151.5500</td>\n",
       "      <td>C22 C26</td>\n",
       "      <td>Southampton</td>\n",
       "      <td>11</td>\n",
       "      <td>Yes</td>\n",
       "    </tr>\n",
       "    <tr>\n",
       "      <th>2</th>\n",
       "      <td>First</td>\n",
       "      <td>Allison, Miss. Helen Loraine</td>\n",
       "      <td>Female</td>\n",
       "      <td>2.0000</td>\n",
       "      <td>1</td>\n",
       "      <td>2</td>\n",
       "      <td>113781</td>\n",
       "      <td>151.5500</td>\n",
       "      <td>C22 C26</td>\n",
       "      <td>Southampton</td>\n",
       "      <td>NaN</td>\n",
       "      <td>No</td>\n",
       "    </tr>\n",
       "    <tr>\n",
       "      <th>3</th>\n",
       "      <td>First</td>\n",
       "      <td>Allison, Mr. Hudson Joshua Creighton</td>\n",
       "      <td>Male</td>\n",
       "      <td>30.0000</td>\n",
       "      <td>1</td>\n",
       "      <td>2</td>\n",
       "      <td>113781</td>\n",
       "      <td>151.5500</td>\n",
       "      <td>C22 C26</td>\n",
       "      <td>Southampton</td>\n",
       "      <td>NaN</td>\n",
       "      <td>No</td>\n",
       "    </tr>\n",
       "    <tr>\n",
       "      <th>4</th>\n",
       "      <td>First</td>\n",
       "      <td>Allison, Mrs. Hudson J C (Bessie Waldo Daniels)</td>\n",
       "      <td>Female</td>\n",
       "      <td>25.0000</td>\n",
       "      <td>1</td>\n",
       "      <td>2</td>\n",
       "      <td>113781</td>\n",
       "      <td>151.5500</td>\n",
       "      <td>C22 C26</td>\n",
       "      <td>Southampton</td>\n",
       "      <td>NaN</td>\n",
       "      <td>No</td>\n",
       "    </tr>\n",
       "    <tr>\n",
       "      <th>5</th>\n",
       "      <td>First</td>\n",
       "      <td>Anderson, Mr. Harry</td>\n",
       "      <td>Male</td>\n",
       "      <td>48.0000</td>\n",
       "      <td>0</td>\n",
       "      <td>0</td>\n",
       "      <td>19952</td>\n",
       "      <td>26.5500</td>\n",
       "      <td>E12</td>\n",
       "      <td>Southampton</td>\n",
       "      <td>3</td>\n",
       "      <td>Yes</td>\n",
       "    </tr>\n",
       "    <tr>\n",
       "      <th>6</th>\n",
       "      <td>First</td>\n",
       "      <td>Andrews, Miss. Kornelia Theodosia</td>\n",
       "      <td>Female</td>\n",
       "      <td>63.0000</td>\n",
       "      <td>1</td>\n",
       "      <td>0</td>\n",
       "      <td>13502</td>\n",
       "      <td>77.9583</td>\n",
       "      <td>D7</td>\n",
       "      <td>Southampton</td>\n",
       "      <td>10</td>\n",
       "      <td>Yes</td>\n",
       "    </tr>\n",
       "    <tr>\n",
       "      <th>7</th>\n",
       "      <td>First</td>\n",
       "      <td>Andrews, Mr. Thomas Jr</td>\n",
       "      <td>Male</td>\n",
       "      <td>39.0000</td>\n",
       "      <td>0</td>\n",
       "      <td>0</td>\n",
       "      <td>112050</td>\n",
       "      <td>0.0000</td>\n",
       "      <td>A36</td>\n",
       "      <td>Southampton</td>\n",
       "      <td>NaN</td>\n",
       "      <td>No</td>\n",
       "    </tr>\n",
       "    <tr>\n",
       "      <th>8</th>\n",
       "      <td>First</td>\n",
       "      <td>Appleton, Mrs. Edward Dale (Charlotte Lamson)</td>\n",
       "      <td>Female</td>\n",
       "      <td>53.0000</td>\n",
       "      <td>2</td>\n",
       "      <td>0</td>\n",
       "      <td>11769</td>\n",
       "      <td>51.4792</td>\n",
       "      <td>C101</td>\n",
       "      <td>Southampton</td>\n",
       "      <td>D</td>\n",
       "      <td>Yes</td>\n",
       "    </tr>\n",
       "    <tr>\n",
       "      <th>9</th>\n",
       "      <td>First</td>\n",
       "      <td>Artagaveytia, Mr. Ramon</td>\n",
       "      <td>Male</td>\n",
       "      <td>71.0000</td>\n",
       "      <td>0</td>\n",
       "      <td>0</td>\n",
       "      <td>PC 17609</td>\n",
       "      <td>49.5042</td>\n",
       "      <td>NaN</td>\n",
       "      <td>Cherbourg</td>\n",
       "      <td>NaN</td>\n",
       "      <td>No</td>\n",
       "    </tr>\n",
       "  </tbody>\n",
       "</table>\n",
       "</div>"
      ],
      "text/plain": [
       "  Passenger Class                                             Name     Sex  \\\n",
       "0           First                    Allen, Miss. Elisabeth Walton  Female   \n",
       "1           First                   Allison, Master. Hudson Trevor    Male   \n",
       "2           First                     Allison, Miss. Helen Loraine  Female   \n",
       "3           First             Allison, Mr. Hudson Joshua Creighton    Male   \n",
       "4           First  Allison, Mrs. Hudson J C (Bessie Waldo Daniels)  Female   \n",
       "5           First                              Anderson, Mr. Harry    Male   \n",
       "6           First                Andrews, Miss. Kornelia Theodosia  Female   \n",
       "7           First                           Andrews, Mr. Thomas Jr    Male   \n",
       "8           First    Appleton, Mrs. Edward Dale (Charlotte Lamson)  Female   \n",
       "9           First                          Artagaveytia, Mr. Ramon    Male   \n",
       "\n",
       "       Age  No of Siblings or Spouses on Board  \\\n",
       "0  29.0000                                   0   \n",
       "1   0.9167                                   1   \n",
       "2   2.0000                                   1   \n",
       "3  30.0000                                   1   \n",
       "4  25.0000                                   1   \n",
       "5  48.0000                                   0   \n",
       "6  63.0000                                   1   \n",
       "7  39.0000                                   0   \n",
       "8  53.0000                                   2   \n",
       "9  71.0000                                   0   \n",
       "\n",
       "   No of Parents or Children on Board Ticket Number  Passenger Fare    Cabin  \\\n",
       "0                                   0         24160        211.3375       B5   \n",
       "1                                   2        113781        151.5500  C22 C26   \n",
       "2                                   2        113781        151.5500  C22 C26   \n",
       "3                                   2        113781        151.5500  C22 C26   \n",
       "4                                   2        113781        151.5500  C22 C26   \n",
       "5                                   0         19952         26.5500      E12   \n",
       "6                                   0         13502         77.9583       D7   \n",
       "7                                   0        112050          0.0000      A36   \n",
       "8                                   0         11769         51.4792     C101   \n",
       "9                                   0      PC 17609         49.5042      NaN   \n",
       "\n",
       "  Port of Embarkation Life Boat Survived  \n",
       "0         Southampton         2      Yes  \n",
       "1         Southampton        11      Yes  \n",
       "2         Southampton       NaN       No  \n",
       "3         Southampton       NaN       No  \n",
       "4         Southampton       NaN       No  \n",
       "5         Southampton         3      Yes  \n",
       "6         Southampton        10      Yes  \n",
       "7         Southampton       NaN       No  \n",
       "8         Southampton         D      Yes  \n",
       "9           Cherbourg       NaN       No  "
      ]
     },
     "metadata": {},
     "output_type": "display_data"
    }
   ],
   "source": [
    "#Leer archivo \n",
    "df = pd.read_excel('./Titanic.xlsx')\n",
    "df.head()\n",
    "print(\"Dimensiones:\", df.shape)\n",
    "display(df.head(10))"
   ]
  },
  {
   "cell_type": "markdown",
   "id": "d1439585",
   "metadata": {},
   "source": [
    "1. ``Saque estadísticas`` "
   ]
  },
  {
   "cell_type": "code",
   "execution_count": 53,
   "id": "0a6592ed",
   "metadata": {},
   "outputs": [
    {
     "name": "stdout",
     "output_type": "stream",
     "text": [
      "\n",
      "Información general:\n",
      "<class 'pandas.core.frame.DataFrame'>\n",
      "RangeIndex: 1309 entries, 0 to 1308\n",
      "Data columns (total 12 columns):\n",
      " #   Column                              Non-Null Count  Dtype  \n",
      "---  ------                              --------------  -----  \n",
      " 0   Passenger Class                     1309 non-null   object \n",
      " 1   Name                                1309 non-null   object \n",
      " 2   Sex                                 1309 non-null   object \n",
      " 3   Age                                 1046 non-null   float64\n",
      " 4   No of Siblings or Spouses on Board  1309 non-null   int64  \n",
      " 5   No of Parents or Children on Board  1309 non-null   int64  \n",
      " 6   Ticket Number                       1309 non-null   object \n",
      " 7   Passenger Fare                      1308 non-null   float64\n",
      " 8   Cabin                               295 non-null    object \n",
      " 9   Port of Embarkation                 1307 non-null   object \n",
      " 10  Life Boat                           486 non-null    object \n",
      " 11  Survived                            1309 non-null   object \n",
      "dtypes: float64(2), int64(2), object(8)\n",
      "memory usage: 122.8+ KB\n"
     ]
    },
    {
     "data": {
      "text/plain": [
       "None"
      ]
     },
     "metadata": {},
     "output_type": "display_data"
    },
    {
     "name": "stdout",
     "output_type": "stream",
     "text": [
      "\n",
      "Estadísticas:\n"
     ]
    },
    {
     "data": {
      "text/html": [
       "<div>\n",
       "<style scoped>\n",
       "    .dataframe tbody tr th:only-of-type {\n",
       "        vertical-align: middle;\n",
       "    }\n",
       "\n",
       "    .dataframe tbody tr th {\n",
       "        vertical-align: top;\n",
       "    }\n",
       "\n",
       "    .dataframe thead th {\n",
       "        text-align: right;\n",
       "    }\n",
       "</style>\n",
       "<table border=\"1\" class=\"dataframe\">\n",
       "  <thead>\n",
       "    <tr style=\"text-align: right;\">\n",
       "      <th></th>\n",
       "      <th>Age</th>\n",
       "      <th>No of Siblings or Spouses on Board</th>\n",
       "      <th>No of Parents or Children on Board</th>\n",
       "      <th>Passenger Fare</th>\n",
       "    </tr>\n",
       "  </thead>\n",
       "  <tbody>\n",
       "    <tr>\n",
       "      <th>count</th>\n",
       "      <td>1046.000000</td>\n",
       "      <td>1309.000000</td>\n",
       "      <td>1309.000000</td>\n",
       "      <td>1308.000000</td>\n",
       "    </tr>\n",
       "    <tr>\n",
       "      <th>mean</th>\n",
       "      <td>29.881135</td>\n",
       "      <td>0.498854</td>\n",
       "      <td>0.385027</td>\n",
       "      <td>33.295479</td>\n",
       "    </tr>\n",
       "    <tr>\n",
       "      <th>std</th>\n",
       "      <td>14.413500</td>\n",
       "      <td>1.041658</td>\n",
       "      <td>0.865560</td>\n",
       "      <td>51.758668</td>\n",
       "    </tr>\n",
       "    <tr>\n",
       "      <th>min</th>\n",
       "      <td>0.166700</td>\n",
       "      <td>0.000000</td>\n",
       "      <td>0.000000</td>\n",
       "      <td>0.000000</td>\n",
       "    </tr>\n",
       "    <tr>\n",
       "      <th>25%</th>\n",
       "      <td>21.000000</td>\n",
       "      <td>0.000000</td>\n",
       "      <td>0.000000</td>\n",
       "      <td>7.895800</td>\n",
       "    </tr>\n",
       "    <tr>\n",
       "      <th>50%</th>\n",
       "      <td>28.000000</td>\n",
       "      <td>0.000000</td>\n",
       "      <td>0.000000</td>\n",
       "      <td>14.454200</td>\n",
       "    </tr>\n",
       "    <tr>\n",
       "      <th>75%</th>\n",
       "      <td>39.000000</td>\n",
       "      <td>1.000000</td>\n",
       "      <td>0.000000</td>\n",
       "      <td>31.275000</td>\n",
       "    </tr>\n",
       "    <tr>\n",
       "      <th>max</th>\n",
       "      <td>80.000000</td>\n",
       "      <td>8.000000</td>\n",
       "      <td>9.000000</td>\n",
       "      <td>512.329200</td>\n",
       "    </tr>\n",
       "  </tbody>\n",
       "</table>\n",
       "</div>"
      ],
      "text/plain": [
       "               Age  No of Siblings or Spouses on Board  \\\n",
       "count  1046.000000                         1309.000000   \n",
       "mean     29.881135                            0.498854   \n",
       "std      14.413500                            1.041658   \n",
       "min       0.166700                            0.000000   \n",
       "25%      21.000000                            0.000000   \n",
       "50%      28.000000                            0.000000   \n",
       "75%      39.000000                            1.000000   \n",
       "max      80.000000                            8.000000   \n",
       "\n",
       "       No of Parents or Children on Board  Passenger Fare  \n",
       "count                         1309.000000     1308.000000  \n",
       "mean                             0.385027       33.295479  \n",
       "std                              0.865560       51.758668  \n",
       "min                              0.000000        0.000000  \n",
       "25%                              0.000000        7.895800  \n",
       "50%                              0.000000       14.454200  \n",
       "75%                              0.000000       31.275000  \n",
       "max                              9.000000      512.329200  "
      ]
     },
     "metadata": {},
     "output_type": "display_data"
    },
    {
     "name": "stdout",
     "output_type": "stream",
     "text": [
      "\n",
      "Valores únicos por columna:\n"
     ]
    },
    {
     "data": {
      "text/plain": [
       "Passenger Class                        0.000000\n",
       "Name                                   0.000000\n",
       "Sex                                    0.000000\n",
       "Age                                   20.091673\n",
       "No of Siblings or Spouses on Board     0.000000\n",
       "No of Parents or Children on Board     0.000000\n",
       "Ticket Number                          0.000000\n",
       "Passenger Fare                         0.076394\n",
       "Cabin                                 77.463713\n",
       "Port of Embarkation                    0.152788\n",
       "Life Boat                             62.872422\n",
       "Survived                               0.000000\n",
       "dtype: float64"
      ]
     },
     "execution_count": 53,
     "metadata": {},
     "output_type": "execute_result"
    }
   ],
   "source": [
    "print(\"\\nInformación general:\")\n",
    "display(df.info())\n",
    "\n",
    "\n",
    "print(\"\\nEstadísticas:\")\n",
    "display(df.describe())\n",
    "\n",
    "print(\"\\nValores únicos por columna:\")\n",
    "df.isnull().sum()\n",
    "df.isnull().mean() * 100\n",
    "\n"
   ]
  },
  {
   "cell_type": "markdown",
   "id": "2e2a765d",
   "metadata": {},
   "source": [
    "``Eliminación de Atributos inncesarios``\n",
    "1. Name\n",
    "    - No aporta en nada al análisis ya que es un dato que varia demasiado\n",
    "2. Ticket Number\n",
    "    - No aporta en nada, ya que es un datos único\n",
    "3. Cabin\n",
    "    - No sirve de nada ya que tiene mas de un 50% de datos faltantes\n",
    "4. Life Boat \n",
    "    - No sirve de nada ya que tambien tiene mas de un 50% de datos faltantes"
   ]
  },
  {
   "cell_type": "code",
   "execution_count": 54,
   "id": "7baf579a",
   "metadata": {},
   "outputs": [
    {
     "data": {
      "text/html": [
       "<div>\n",
       "<style scoped>\n",
       "    .dataframe tbody tr th:only-of-type {\n",
       "        vertical-align: middle;\n",
       "    }\n",
       "\n",
       "    .dataframe tbody tr th {\n",
       "        vertical-align: top;\n",
       "    }\n",
       "\n",
       "    .dataframe thead th {\n",
       "        text-align: right;\n",
       "    }\n",
       "</style>\n",
       "<table border=\"1\" class=\"dataframe\">\n",
       "  <thead>\n",
       "    <tr style=\"text-align: right;\">\n",
       "      <th></th>\n",
       "      <th>Passenger Class</th>\n",
       "      <th>Sex</th>\n",
       "      <th>Age</th>\n",
       "      <th>No of Siblings or Spouses on Board</th>\n",
       "      <th>No of Parents or Children on Board</th>\n",
       "      <th>Passenger Fare</th>\n",
       "      <th>Port of Embarkation</th>\n",
       "      <th>Survived</th>\n",
       "    </tr>\n",
       "  </thead>\n",
       "  <tbody>\n",
       "    <tr>\n",
       "      <th>0</th>\n",
       "      <td>First</td>\n",
       "      <td>Female</td>\n",
       "      <td>29.0000</td>\n",
       "      <td>0</td>\n",
       "      <td>0</td>\n",
       "      <td>211.3375</td>\n",
       "      <td>Southampton</td>\n",
       "      <td>Yes</td>\n",
       "    </tr>\n",
       "    <tr>\n",
       "      <th>1</th>\n",
       "      <td>First</td>\n",
       "      <td>Male</td>\n",
       "      <td>0.9167</td>\n",
       "      <td>1</td>\n",
       "      <td>2</td>\n",
       "      <td>151.5500</td>\n",
       "      <td>Southampton</td>\n",
       "      <td>Yes</td>\n",
       "    </tr>\n",
       "    <tr>\n",
       "      <th>2</th>\n",
       "      <td>First</td>\n",
       "      <td>Female</td>\n",
       "      <td>2.0000</td>\n",
       "      <td>1</td>\n",
       "      <td>2</td>\n",
       "      <td>151.5500</td>\n",
       "      <td>Southampton</td>\n",
       "      <td>No</td>\n",
       "    </tr>\n",
       "    <tr>\n",
       "      <th>3</th>\n",
       "      <td>First</td>\n",
       "      <td>Male</td>\n",
       "      <td>30.0000</td>\n",
       "      <td>1</td>\n",
       "      <td>2</td>\n",
       "      <td>151.5500</td>\n",
       "      <td>Southampton</td>\n",
       "      <td>No</td>\n",
       "    </tr>\n",
       "    <tr>\n",
       "      <th>4</th>\n",
       "      <td>First</td>\n",
       "      <td>Female</td>\n",
       "      <td>25.0000</td>\n",
       "      <td>1</td>\n",
       "      <td>2</td>\n",
       "      <td>151.5500</td>\n",
       "      <td>Southampton</td>\n",
       "      <td>No</td>\n",
       "    </tr>\n",
       "  </tbody>\n",
       "</table>\n",
       "</div>"
      ],
      "text/plain": [
       "  Passenger Class     Sex      Age  No of Siblings or Spouses on Board  \\\n",
       "0           First  Female  29.0000                                   0   \n",
       "1           First    Male   0.9167                                   1   \n",
       "2           First  Female   2.0000                                   1   \n",
       "3           First    Male  30.0000                                   1   \n",
       "4           First  Female  25.0000                                   1   \n",
       "\n",
       "   No of Parents or Children on Board  Passenger Fare Port of Embarkation  \\\n",
       "0                                   0        211.3375         Southampton   \n",
       "1                                   2        151.5500         Southampton   \n",
       "2                                   2        151.5500         Southampton   \n",
       "3                                   2        151.5500         Southampton   \n",
       "4                                   2        151.5500         Southampton   \n",
       "\n",
       "  Survived  \n",
       "0      Yes  \n",
       "1      Yes  \n",
       "2       No  \n",
       "3       No  \n",
       "4       No  "
      ]
     },
     "execution_count": 54,
     "metadata": {},
     "output_type": "execute_result"
    }
   ],
   "source": [
    "# Eliminación de columnas irrelevantes\n",
    "df = df.drop(columns=['Name','Ticket Number', 'Cabin', 'Life Boat'])\n",
    "df.head()"
   ]
  },
  {
   "cell_type": "markdown",
   "id": "c9ad17cc",
   "metadata": {},
   "source": [
    "``Sustituir Valores perdidos``\n",
    "1. Edad\n",
    "    - Tomar la media de edad \n",
    "    - Rellenar los datos con la edad media\n",
    "2. Port of embarkation\n",
    "    - Transformar a indices Numéricos\n",
    "3. Sex\n",
    "    - Transformar a indices Numéricos\n",
    "4. Passenger Fare\n",
    "    - Hay un dato sin un valor, entonces le agregaremos la media\n"
   ]
  },
  {
   "cell_type": "code",
   "execution_count": null,
   "id": "396ad5d0",
   "metadata": {},
   "outputs": [
    {
     "name": "stdout",
     "output_type": "stream",
     "text": [
      "La media de edad es: 29.0\n"
     ]
    }
   ],
   "source": [
    "# Calcular la media de edad\n",
    "# Rellenar los datos faltantes en la columna 'Age' con la media calculada\n",
    "media_age = np.floor(df['Age'].mean())\n",
    "print(\"La media de edad es:\", media_age)\n",
    "\n",
    "df['Age'] = df['Age'].fillna(media_age)\n",
    "df.head(25)\n",
    "\n",
    "# Rellenar los datos faltantes en la columna 'Passenger Fare' con la media calculada\n",
    "media_ps= np.floor(df['Passenger Fare'].mean())\n",
    "df['Passenger Fare'] = df['Passenger Fare'].fillna(media_ps)\n",
    "df['Port of Embarkation'].unique()\n",
    "\n",
    "# Transformar a indices Numéricos Port of Embarkation\n",
    "df['Port of Embarkation'] = df['Port of Embarkation'].map({'':0, 'Southampton': 1, 'Cherbourg': 2, 'Queenstown':3})\n",
    "df['Port of Embarkation'] = df['Port of Embarkation'].fillna(0)\n",
    "df['Port of Embarkation'].unique()\n",
    "\n",
    "# Transformar a indices Numéricos el género\n",
    "df['Sex'] = df['Sex'].map({'Male': 0, 'Female': 1})\n",
    "df['Passenger Class'].unique()\n",
    "\n",
    "# Transformar a indices Numéricos Passenger Class\n",
    "df['Passenger Class'] = df['Passenger Class'].map({'First': 1, 'Second': 2, 'Third': 3})\n",
    "df['Passenger Class'].unique()\n",
    "\n",
    "# Transformar a indices Numéricos Survived\n",
    "df['Survived'] = df['Survived'].map({'No': 0, 'Yes': 1})"
   ]
  },
  {
   "cell_type": "markdown",
   "id": "5e1ae879",
   "metadata": {},
   "source": [
    "2. ``Generación de Graficas`` "
   ]
  },
  {
   "cell_type": "code",
   "execution_count": 56,
   "id": "f2b6a6a4",
   "metadata": {},
   "outputs": [
    {
     "data": {
      "image/png": "[encoded data removed]",
      "text/plain": [
       "<Figure size 800x400 with 1 Axes>"
      ]
     },
     "metadata": {},
     "output_type": "display_data"
    }
   ],
   "source": [
    "# Edad\n",
    "plt.figure(figsize=(8,4))\n",
    "sns.histplot(df['Age'].dropna().astype(float), kde=True)\n",
    "plt.title('Distribución de la edad')\n",
    "plt.show()"
   ]
  },
  {
   "cell_type": "code",
   "execution_count": 57,
   "id": "3eb5c2a8",
   "metadata": {},
   "outputs": [
    {
     "data": {
      "image/png": "[encoded data removed]",
      "text/plain": [
       "<Figure size 600x400 with 1 Axes>"
      ]
     },
     "metadata": {},
     "output_type": "display_data"
    }
   ],
   "source": [
    "# Conteo de sobrevivientes por sexo\n",
    "plt.figure(figsize=(6,4))\n",
    "sns.countplot(x='Sex', hue='Survived', data=df)\n",
    "plt.title('Supervivencia por sexo')\n",
    "plt.show()"
   ]
  },
  {
   "cell_type": "code",
   "execution_count": 58,
   "id": "51665d29",
   "metadata": {},
   "outputs": [
    {
     "data": {
      "image/png": "[encoded data removed]",
      "text/plain": [
       "<Figure size 600x400 with 1 Axes>"
      ]
     },
     "metadata": {},
     "output_type": "display_data"
    }
   ],
   "source": [
    "# Conteo de sobrevivientes por clase de pasajero\n",
    "if 'Passenger Class' in df.columns:\n",
    "    plt.figure(figsize=(6,4))\n",
    "    sns.countplot(x='Passenger Class', hue='Survived', data=df)\n",
    "    plt.title('Supervicencia por clase de pasajero')\n",
    "    plt.show()"
   ]
  },
  {
   "cell_type": "code",
   "execution_count": 59,
   "id": "900a9bdf",
   "metadata": {},
   "outputs": [
    {
     "data": {
      "text/plain": [
       "<Axes: xlabel='Sex', ylabel='count'>"
      ]
     },
     "execution_count": 59,
     "metadata": {},
     "output_type": "execute_result"
    },
    {
     "data": {
      "image/png": "[encoded data removed]",
      "text/plain": [
       "<Figure size 640x480 with 1 Axes>"
      ]
     },
     "metadata": {},
     "output_type": "display_data"
    }
   ],
   "source": [
    "sns.countplot(x='Sex', hue='Survived', data=df)\n",
    "sns.countplot(x='Passenger Class', hue='Survived', data=df)\n",
    "sns.countplot(x='Port of Embarkation', hue='Survived', data=df)"
   ]
  },
  {
   "cell_type": "markdown",
   "id": "7e2515fc",
   "metadata": {},
   "source": [
    "## ``2. Utilice el algoritmo de DecisionTreeClassifier y determine cuál de los 3 criterios es mejor en la clasificación, comparando el score de cada uno.`` \n"
   ]
  },
  {
   "cell_type": "code",
   "execution_count": 60,
   "id": "f59f3188",
   "metadata": {},
   "outputs": [
    {
     "name": "stdout",
     "output_type": "stream",
     "text": [
      "Passenger Class                       0\n",
      "Sex                                   0\n",
      "Age                                   0\n",
      "No of Siblings or Spouses on Board    0\n",
      "No of Parents or Children on Board    0\n",
      "Passenger Fare                        0\n",
      "Port of Embarkation                   0\n",
      "Survived                              0\n",
      "dtype: int64\n"
     ]
    }
   ],
   "source": [
    "# Separamos variables independientes y dependientes\n",
    "caracteristicas = df.columns[:-1].tolist()\n",
    "x = df[caracteristicas].values\n",
    "y = df['Survived']\n",
    "print(df.isnull().sum())\n"
   ]
  },
  {
   "cell_type": "code",
   "execution_count": 61,
   "id": "77f3b915",
   "metadata": {},
   "outputs": [
    {
     "name": "stdout",
     "output_type": "stream",
     "text": [
      "Score con criterio Gini: 0.7938931297709924\n",
      "Score con criterio Entropía: 0.7633587786259542\n",
      "Score con criterio Log Loss: 0.7633587786259542\n"
     ]
    }
   ],
   "source": [
    "#Entrenar el modelo\n",
    "from sklearn.model_selection import train_test_split\n",
    "x_train, x_test, y_train, y_test = train_test_split(x, y, test_size=0.20, random_state=42)\n",
    "\n",
    "#Modelo 1: Gini\n",
    "modelo = DecisionTreeClassifier(criterion='gini', random_state=123)\n",
    "modelo.fit(x_train, y_train)\n",
    "score_gini = modelo.score(x_test, y_test)\n",
    "print(\"Score con criterio Gini:\", score_gini)\n",
    "\n",
    "# Modelo 2: Entropía\n",
    "modelo = DecisionTreeClassifier(criterion='entropy', random_state=123)\n",
    "modelo.fit(x_train, y_train)\n",
    "score_entropy = modelo.score(x_test, y_test)\n",
    "print(\"Score con criterio Entropía:\", score_entropy)\n",
    "\n",
    "#Modelo 3: Log Loss\n",
    "modelo = DecisionTreeClassifier(criterion='log_loss', random_state=123)\n",
    "modelo.fit(x_train, y_train)\n",
    "score_log_loss = modelo.score(x_test, y_test)\n",
    "print(\"Score con criterio Log Loss:\", score_log_loss)\n"
   ]
  },
  {
   "cell_type": "markdown",
   "id": "4de5db4b",
   "metadata": {},
   "source": [
    "- Score con criterio Gini: 0.794\n",
    "- Score con criterio Entropía: 0.763\n",
    "- Score con criterio Log Loss: 0.763\n",
    "\n",
    "``Interpretación:``\n",
    "Gini es el criterio recomendado para este dataset usando el 80% de los datos para entrenameineto y el restante para pruebas, teniendo asi una mayor tasa de extito contra los otros 2 modelos\n"
   ]
  },
  {
   "cell_type": "markdown",
   "id": "3dabee10",
   "metadata": {},
   "source": [
    "``Para cada uno de los siguientes algoritmos de aprendizaje, calcule el score y determine el mejor modelo``\n",
    "- Logistic Regression\n",
    "- Random Forest Classification\n",
    "- Support Vector Machine (SVM)\n",
    "- Native bayes\n",
    "- Adaptive Boosting (AdaBoost)\n",
    "- Gradient Boosted Trees\n",
    "- Extreme Gradient Boosting (XGBoost)\n",
    "- K-Nearest Neighbors Classification(KNN)"
   ]
  },
  {
   "cell_type": "code",
   "execution_count": null,
   "id": "ee9daa0f",
   "metadata": {},
   "outputs": [
    {
     "name": "stdout",
     "output_type": "stream",
     "text": [
      "Logistic Regression: Accuracy=0.7922, Std=0.0165\n",
      "Random Forest: Accuracy=0.7907, Std=0.0264\n",
      "SVM: Accuracy=0.6715, Std=0.0223\n",
      "Naive Bayes: Accuracy=0.7792, Std=0.0247\n",
      "AdaBoost: Accuracy=0.7854, Std=0.0246\n",
      "Gradient Boosting: Accuracy=0.8098, Std=0.0192\n"
     ]
    },
    {
     "name": "stderr",
     "output_type": "stream",
     "text": [
      "c:\\Users\\Dev\\AppData\\Local\\Programs\\Python\\Python313\\Lib\\site-packages\\xgboost\\training.py:183: UserWarning: [09:06:54] WARNING: C:\\actions-runner\\_work\\xgboost\\xgboost\\src\\learner.cc:738: \n",
      "Parameters: { \"use_label_encoder\" } are not used.\n",
      "\n",
      "  bst.update(dtrain, iteration=i, fobj=obj)\n",
      "c:\\Users\\Dev\\AppData\\Local\\Programs\\Python\\Python313\\Lib\\site-packages\\xgboost\\training.py:183: UserWarning: [09:06:54] WARNING: C:\\actions-runner\\_work\\xgboost\\xgboost\\src\\learner.cc:738: \n",
      "Parameters: { \"use_label_encoder\" } are not used.\n",
      "\n",
      "  bst.update(dtrain, iteration=i, fobj=obj)\n",
      "c:\\Users\\Dev\\AppData\\Local\\Programs\\Python\\Python313\\Lib\\site-packages\\xgboost\\training.py:183: UserWarning: [09:06:55] WARNING: C:\\actions-runner\\_work\\xgboost\\xgboost\\src\\learner.cc:738: \n",
      "Parameters: { \"use_label_encoder\" } are not used.\n",
      "\n",
      "  bst.update(dtrain, iteration=i, fobj=obj)\n",
      "c:\\Users\\Dev\\AppData\\Local\\Programs\\Python\\Python313\\Lib\\site-packages\\xgboost\\training.py:183: UserWarning: [09:06:55] WARNING: C:\\actions-runner\\_work\\xgboost\\xgboost\\src\\learner.cc:738: \n",
      "Parameters: { \"use_label_encoder\" } are not used.\n",
      "\n",
      "  bst.update(dtrain, iteration=i, fobj=obj)\n",
      "c:\\Users\\Dev\\AppData\\Local\\Programs\\Python\\Python313\\Lib\\site-packages\\xgboost\\training.py:183: UserWarning: [09:06:55] WARNING: C:\\actions-runner\\_work\\xgboost\\xgboost\\src\\learner.cc:738: \n",
      "Parameters: { \"use_label_encoder\" } are not used.\n",
      "\n",
      "  bst.update(dtrain, iteration=i, fobj=obj)\n"
     ]
    },
    {
     "name": "stdout",
     "output_type": "stream",
     "text": [
      "XGBoost: Accuracy=0.8060, Std=0.0258\n",
      "KNN: Accuracy=0.6898, Std=0.0130\n"
     ]
    }
   ],
   "source": [
    "# Importar librerías\n",
    "from sklearn.model_selection import cross_val_score, StratifiedKFold\n",
    "from sklearn.linear_model import LogisticRegression\n",
    "from sklearn.ensemble import RandomForestClassifier, AdaBoostClassifier, GradientBoostingClassifier\n",
    "from sklearn.svm import SVC\n",
    "from sklearn.naive_bayes import GaussianNB\n",
    "from sklearn.neighbors import KNeighborsClassifier\n",
    "import xgboost as xgb\n",
    "\n",
    "# Definir cross-validation\n",
    "cv = StratifiedKFold(n_splits=5, shuffle=True, random_state=42)\n",
    "\n",
    "# 1 Logistic Regression\n",
    "lr = LogisticRegression(max_iter=1000)\n",
    "scores = cross_val_score(lr, x, y, cv=cv, scoring='accuracy')\n",
    "print(f\"Logistic Regression: Accuracy={scores.mean():.4f}, Std={scores.std():.4f}\")\n",
    "\n",
    "# 2️ Random Forest\n",
    "rf = RandomForestClassifier(n_estimators=100, random_state=42)\n",
    "scores = cross_val_score(rf, x, y, cv=cv, scoring='accuracy')\n",
    "print(f\"Random Forest: Accuracy={scores.mean():.4f}, Std={scores.std():.4f}\")\n",
    "\n",
    "# 3️ Support Vector Machine (SVM)\n",
    "svm = SVC(kernel='rbf', probability=True)\n",
    "scores = cross_val_score(svm, x, y, cv=cv, scoring='accuracy')\n",
    "print(f\"SVM: Accuracy={scores.mean():.4f}, Std={scores.std():.4f}\")\n",
    "\n",
    "# 4️ Naive Bayes\n",
    "nb = GaussianNB()\n",
    "scores = cross_val_score(nb, x, y, cv=cv, scoring='accuracy')\n",
    "print(f\"Naive Bayes: Accuracy={scores.mean():.4f}, Std={scores.std():.4f}\")\n",
    "\n",
    "# 5️ AdaBoost\n",
    "ada = AdaBoostClassifier(n_estimators=100, random_state=42)\n",
    "scores = cross_val_score(ada, x, y, cv=cv, scoring='accuracy')\n",
    "print(f\"AdaBoost: Accuracy={scores.mean():.4f}, Std={scores.std():.4f}\")\n",
    "\n",
    "# 6️ Gradient Boosting\n",
    "gb = GradientBoostingClassifier(n_estimators=100, random_state=42)\n",
    "scores = cross_val_score(gb, x, y, cv=cv, scoring='accuracy')\n",
    "print(f\"Gradient Boosting: Accuracy={scores.mean():.4f}, Std={scores.std():.4f}\")\n",
    "\n",
    "# 7️ XGBoost\n",
    "xg = xgb.XGBClassifier(n_estimators=100, use_label_encoder=False, eval_metric='logloss', random_state=42)\n",
    "scores = cross_val_score(xg, x, y, cv=cv, scoring='accuracy')\n",
    "print(f\"XGBoost: Accuracy={scores.mean():.4f}, Std={scores.std():.4f}\")\n",
    "\n",
    "# 8️ K-Nearest Neighbors (KNN)\n",
    "knn = KNeighborsClassifier(n_neighbors=5)\n",
    "scores = cross_val_score(knn, x, y, cv=cv, scoring='accuracy')\n",
    "print(f\"KNN: Accuracy={scores.mean():.4f}, Std={scores.std():.4f}\")\n"
   ]
  },
  {
   "cell_type": "markdown",
   "id": "a8b65bc8",
   "metadata": {},
   "source": [
    "## Interpretacion \n",
    "Para la seleccion del modelo se considero los resultados de Accuracy(Precisión) y STD(Desviacion estandar), de lo cual se obtuvieron lo siguientes valores para cada uno de los modelos:\n",
    "- **Logistic Regression**: Accuracy=0.7922, Std=0.0165\n",
    "- **Random Forest**: Accuracy=0.7907, Std=0.0264\n",
    "- **SVM**: Accuracy=0.6715, Std=0.0223\n",
    "- **Naive Bayes**: Accuracy=0.7792, Std=0.0247\n",
    "- **AdaBoost**: Accuracy=0.7854, Std=0.0246\n",
    "- **Gradient Boosting**: Accuracy=0.8098, Std=0.0192\n",
    "\n",
    "Obteniendo que el mejor modelo es `Gradient Boosting` dado a que posee el mayor valor de precisión entre los modelos y a su vez su desviancion menor considerando el modelo que mas se le acerca en precision `Logistic Regression`."
   ]
  }
 ],
 "metadata": {
  "kernelspec": {
   "display_name": "Python 3",
   "language": "python",
   "name": "python3"
  },
  "language_info": {
   "codemirror_mode": {
    "name": "ipython",
    "version": 3
   },
   "file_extension": ".py",
   "mimetype": "text/x-python",
   "name": "python",
   "nbconvert_exporter": "python",
   "pygments_lexer": "ipython3",
   "version": "3.13.7"
  }
 },
 "nbformat": 4,
 "nbformat_minor": 5
}
