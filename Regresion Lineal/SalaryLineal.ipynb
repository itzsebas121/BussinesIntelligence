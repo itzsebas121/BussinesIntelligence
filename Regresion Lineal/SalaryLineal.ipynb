{
 "cells": [
  {
   "cell_type": "markdown",
   "id": "1c2e3c4c",
   "metadata": {},
   "source": [
    "``Importamos librerias necesarias``"
   ]
  },
  {
   "cell_type": "code",
   "execution_count": 14,
   "id": "266a25f7",
   "metadata": {},
   "outputs": [
    {
     "data": {
      "text/html": [
       "<div>\n",
       "<style scoped>\n",
       "    .dataframe tbody tr th:only-of-type {\n",
       "        vertical-align: middle;\n",
       "    }\n",
       "\n",
       "    .dataframe tbody tr th {\n",
       "        vertical-align: top;\n",
       "    }\n",
       "\n",
       "    .dataframe thead th {\n",
       "        text-align: right;\n",
       "    }\n",
       "</style>\n",
       "<table border=\"1\" class=\"dataframe\">\n",
       "  <thead>\n",
       "    <tr style=\"text-align: right;\">\n",
       "      <th></th>\n",
       "      <th>Años de experiencia</th>\n",
       "      <th>Salario</th>\n",
       "    </tr>\n",
       "  </thead>\n",
       "  <tbody>\n",
       "    <tr>\n",
       "      <th>0</th>\n",
       "      <td>1.1</td>\n",
       "      <td>39343</td>\n",
       "    </tr>\n",
       "    <tr>\n",
       "      <th>1</th>\n",
       "      <td>1.3</td>\n",
       "      <td>46205</td>\n",
       "    </tr>\n",
       "    <tr>\n",
       "      <th>2</th>\n",
       "      <td>1.5</td>\n",
       "      <td>37731</td>\n",
       "    </tr>\n",
       "    <tr>\n",
       "      <th>3</th>\n",
       "      <td>2.0</td>\n",
       "      <td>43525</td>\n",
       "    </tr>\n",
       "    <tr>\n",
       "      <th>4</th>\n",
       "      <td>2.2</td>\n",
       "      <td>39891</td>\n",
       "    </tr>\n",
       "  </tbody>\n",
       "</table>\n",
       "</div>"
      ],
      "text/plain": [
       "   Años de experiencia  Salario\n",
       "0                  1.1    39343\n",
       "1                  1.3    46205\n",
       "2                  1.5    37731\n",
       "3                  2.0    43525\n",
       "4                  2.2    39891"
      ]
     },
     "execution_count": 14,
     "metadata": {},
     "output_type": "execute_result"
    }
   ],
   "source": [
    "import pandas as pd\n",
    "import matplotlib.pyplot as plt\n",
    "datos = pd.read_csv('./Salary_Data.csv', sep=';')\n",
    "\n",
    "datos.head()\n"
   ]
  },
  {
   "cell_type": "code",
   "execution_count": 15,
   "id": "a4d43d6b",
   "metadata": {},
   "outputs": [
    {
     "data": {
      "text/html": [
       "<div>\n",
       "<style scoped>\n",
       "    .dataframe tbody tr th:only-of-type {\n",
       "        vertical-align: middle;\n",
       "    }\n",
       "\n",
       "    .dataframe tbody tr th {\n",
       "        vertical-align: top;\n",
       "    }\n",
       "\n",
       "    .dataframe thead th {\n",
       "        text-align: right;\n",
       "    }\n",
       "</style>\n",
       "<table border=\"1\" class=\"dataframe\">\n",
       "  <thead>\n",
       "    <tr style=\"text-align: right;\">\n",
       "      <th></th>\n",
       "      <th>AE</th>\n",
       "      <th>Salario</th>\n",
       "    </tr>\n",
       "  </thead>\n",
       "  <tbody>\n",
       "    <tr>\n",
       "      <th>0</th>\n",
       "      <td>1.1</td>\n",
       "      <td>39343</td>\n",
       "    </tr>\n",
       "    <tr>\n",
       "      <th>1</th>\n",
       "      <td>1.3</td>\n",
       "      <td>46205</td>\n",
       "    </tr>\n",
       "    <tr>\n",
       "      <th>2</th>\n",
       "      <td>1.5</td>\n",
       "      <td>37731</td>\n",
       "    </tr>\n",
       "    <tr>\n",
       "      <th>3</th>\n",
       "      <td>2.0</td>\n",
       "      <td>43525</td>\n",
       "    </tr>\n",
       "    <tr>\n",
       "      <th>4</th>\n",
       "      <td>2.2</td>\n",
       "      <td>39891</td>\n",
       "    </tr>\n",
       "  </tbody>\n",
       "</table>\n",
       "</div>"
      ],
      "text/plain": [
       "    AE  Salario\n",
       "0  1.1    39343\n",
       "1  1.3    46205\n",
       "2  1.5    37731\n",
       "3  2.0    43525\n",
       "4  2.2    39891"
      ]
     },
     "execution_count": 15,
     "metadata": {},
     "output_type": "execute_result"
    }
   ],
   "source": [
    "# Renombramos las columnas\n",
    "datos.columns = ['AE', 'Salario']\n",
    "datos.head()"
   ]
  },
  {
   "cell_type": "code",
   "execution_count": 16,
   "id": "0eb2e04d",
   "metadata": {},
   "outputs": [
    {
     "name": "stdout",
     "output_type": "stream",
     "text": [
      "<class 'pandas.core.frame.DataFrame'>\n",
      "RangeIndex: 30 entries, 0 to 29\n",
      "Data columns (total 2 columns):\n",
      " #   Column   Non-Null Count  Dtype  \n",
      "---  ------   --------------  -----  \n",
      " 0   AE       30 non-null     float64\n",
      " 1   Salario  30 non-null     int64  \n",
      "dtypes: float64(1), int64(1)\n",
      "memory usage: 612.0 bytes\n"
     ]
    }
   ],
   "source": [
    "datos.info()"
   ]
  },
  {
   "cell_type": "code",
   "execution_count": 17,
   "id": "d8b6cd43",
   "metadata": {},
   "outputs": [
    {
     "data": {
      "text/plain": [
       "AE         0\n",
       "Salario    0\n",
       "dtype: int64"
      ]
     },
     "execution_count": 17,
     "metadata": {},
     "output_type": "execute_result"
    }
   ],
   "source": [
    "# contar los valores nulos\n",
    "datos.isna().sum()"
   ]
  },
  {
   "cell_type": "code",
   "execution_count": 19,
   "id": "e7582e10",
   "metadata": {},
   "outputs": [
    {
     "data": {
      "text/plain": [
       "Text(0.5, 1.0, 'Años de experiencia vs Salario')"
      ]
     },
     "execution_count": 19,
     "metadata": {},
     "output_type": "execute_result"
    },
    {
     "data": {
      "image/png": "[encoded data removed]",
      "text/plain": [
       "<Figure size 640x480 with 1 Axes>"
      ]
     },
     "metadata": {},
     "output_type": "display_data"
    }
   ],
   "source": [
    "plt.scatter(x=datos['AE'], y=datos['Salario'])\n",
    "plt.xlabel('Años de experiencia')\n",
    "plt.ylabel('Salario (en $)')\n",
    "plt.title('Años de experiencia vs Salario')"
   ]
  },
  {
   "cell_type": "code",
   "execution_count": 21,
   "id": "6f2b4d09",
   "metadata": {},
   "outputs": [
    {
     "data": {
      "text/html": [
       "<div>\n",
       "<style scoped>\n",
       "    .dataframe tbody tr th:only-of-type {\n",
       "        vertical-align: middle;\n",
       "    }\n",
       "\n",
       "    .dataframe tbody tr th {\n",
       "        vertical-align: top;\n",
       "    }\n",
       "\n",
       "    .dataframe thead th {\n",
       "        text-align: right;\n",
       "    }\n",
       "</style>\n",
       "<table border=\"1\" class=\"dataframe\">\n",
       "  <thead>\n",
       "    <tr style=\"text-align: right;\">\n",
       "      <th></th>\n",
       "      <th>AE</th>\n",
       "      <th>Salario</th>\n",
       "    </tr>\n",
       "  </thead>\n",
       "  <tbody>\n",
       "    <tr>\n",
       "      <th>AE</th>\n",
       "      <td>1.000000</td>\n",
       "      <td>0.978242</td>\n",
       "    </tr>\n",
       "    <tr>\n",
       "      <th>Salario</th>\n",
       "      <td>0.978242</td>\n",
       "      <td>1.000000</td>\n",
       "    </tr>\n",
       "  </tbody>\n",
       "</table>\n",
       "</div>"
      ],
      "text/plain": [
       "               AE   Salario\n",
       "AE       1.000000  0.978242\n",
       "Salario  0.978242  1.000000"
      ]
     },
     "execution_count": 21,
     "metadata": {},
     "output_type": "execute_result"
    }
   ],
   "source": [
    "datos.corr()"
   ]
  },
  {
   "cell_type": "code",
   "execution_count": 22,
   "id": "f9e4d406",
   "metadata": {},
   "outputs": [
    {
     "data": {
      "text/plain": [
       "<Axes: >"
      ]
     },
     "execution_count": 22,
     "metadata": {},
     "output_type": "execute_result"
    },
    {
     "data": {
      "image/png": "[encoded data removed]",
      "text/plain": [
       "<Figure size 640x480 with 2 Axes>"
      ]
     },
     "metadata": {},
     "output_type": "display_data"
    }
   ],
   "source": [
    "import seaborn as sns\n",
    "sns.heatmap(datos.corr(), annot=True, fmt='.2f', linewidths=1.5, cmap='Set2')"
   ]
  },
  {
   "cell_type": "code",
   "execution_count": 29,
   "id": "95219116",
   "metadata": {},
   "outputs": [
    {
     "data": {
      "text/plain": [
       "<Axes: xlabel='AE', ylabel='Salario'>"
      ]
     },
     "execution_count": 29,
     "metadata": {},
     "output_type": "execute_result"
    },
    {
     "data": {
      "image/png": "[encoded data removed]",
      "text/plain": [
       "<Figure size 640x480 with 1 Axes>"
      ]
     },
     "metadata": {},
     "output_type": "display_data"
    }
   ],
   "source": [
    "sns.regplot(x='AE', y='Salario', marker='*', color='red', data=datos)"
   ]
  },
  {
   "cell_type": "code",
   "execution_count": 55,
   "id": "1ed2d694",
   "metadata": {},
   "outputs": [
    {
     "name": "stdout",
     "output_type": "stream",
     "text": [
      "26780.09915062818\n",
      "[9312.57512673]\n",
      "R2 = 94.12%\n"
     ]
    }
   ],
   "source": [
    "x = datos.drop('Salario', axis=1)\n",
    "y = datos['Salario']\n",
    "from sklearn.model_selection import train_test_split\n",
    "from sklearn.linear_model import LinearRegression\n",
    "x_train, x_test, y_train, y_test = train_test_split(x, y, test_size=0.2, random_state=0)\n",
    "\n",
    "regresion = LinearRegression()\n",
    "regresion.fit(x_train, y_train)\n",
    "\n",
    "y_pred = regresion.predict(x_test)\n",
    "\n",
    "print(regresion.intercept_)\n",
    "print(regresion.coef_)\n",
    "print(f\"R2 = {regresion.score(x_train, y_train):.2%}\")\n"
   ]
  },
  {
   "cell_type": "code",
   "execution_count": 45,
   "id": "8e463ef9",
   "metadata": {},
   "outputs": [
    {
     "data": {
      "text/html": [
       "<table class=\"simpletable\">\n",
       "<caption>OLS Regression Results</caption>\n",
       "<tr>\n",
       "  <th>Dep. Variable:</th>         <td>Salario</td>     <th>  R-squared:         </th> <td>   0.941</td>\n",
       "</tr>\n",
       "<tr>\n",
       "  <th>Model:</th>                   <td>OLS</td>       <th>  Adj. R-squared:    </th> <td>   0.939</td>\n",
       "</tr>\n",
       "<tr>\n",
       "  <th>Method:</th>             <td>Least Squares</td>  <th>  F-statistic:       </th> <td>   352.1</td>\n",
       "</tr>\n",
       "<tr>\n",
       "  <th>Date:</th>             <td>Tue, 30 Sep 2025</td> <th>  Prob (F-statistic):</th> <td>5.03e-15</td>\n",
       "</tr>\n",
       "<tr>\n",
       "  <th>Time:</th>                 <td>08:00:22</td>     <th>  Log-Likelihood:    </th> <td> -242.89</td>\n",
       "</tr>\n",
       "<tr>\n",
       "  <th>No. Observations:</th>      <td>    24</td>      <th>  AIC:               </th> <td>   489.8</td>\n",
       "</tr>\n",
       "<tr>\n",
       "  <th>Df Residuals:</th>          <td>    22</td>      <th>  BIC:               </th> <td>   492.1</td>\n",
       "</tr>\n",
       "<tr>\n",
       "  <th>Df Model:</th>              <td>     1</td>      <th>                     </th>     <td> </td>   \n",
       "</tr>\n",
       "<tr>\n",
       "  <th>Covariance Type:</th>      <td>nonrobust</td>    <th>                     </th>     <td> </td>   \n",
       "</tr>\n",
       "</table>\n",
       "<table class=\"simpletable\">\n",
       "<tr>\n",
       "      <td></td>         <th>coef</th>     <th>std err</th>      <th>t</th>      <th>P>|t|</th>  <th>[0.025</th>    <th>0.975]</th>  \n",
       "</tr>\n",
       "<tr>\n",
       "  <th>Intercept</th> <td> 2.678e+04</td> <td> 2818.687</td> <td>    9.501</td> <td> 0.000</td> <td> 2.09e+04</td> <td> 3.26e+04</td>\n",
       "</tr>\n",
       "<tr>\n",
       "  <th>AE</th>        <td> 9312.5751</td> <td>  496.279</td> <td>   18.765</td> <td> 0.000</td> <td> 8283.355</td> <td> 1.03e+04</td>\n",
       "</tr>\n",
       "</table>\n",
       "<table class=\"simpletable\">\n",
       "<tr>\n",
       "  <th>Omnibus:</th>       <td> 3.105</td> <th>  Durbin-Watson:     </th> <td>   2.608</td>\n",
       "</tr>\n",
       "<tr>\n",
       "  <th>Prob(Omnibus):</th> <td> 0.212</td> <th>  Jarque-Bera (JB):  </th> <td>   1.567</td>\n",
       "</tr>\n",
       "<tr>\n",
       "  <th>Skew:</th>          <td> 0.297</td> <th>  Prob(JB):          </th> <td>   0.457</td>\n",
       "</tr>\n",
       "<tr>\n",
       "  <th>Kurtosis:</th>      <td> 1.898</td> <th>  Cond. No.          </th> <td>    12.8</td>\n",
       "</tr>\n",
       "</table><br/><br/>Notes:<br/>[1] Standard Errors assume that the covariance matrix of the errors is correctly specified."
      ],
      "text/latex": [
       "\\begin{center}\n",
       "\\begin{tabular}{lclc}\n",
       "\\toprule\n",
       "\\textbf{Dep. Variable:}    &     Salario      & \\textbf{  R-squared:         } &     0.941   \\\\\n",
       "\\textbf{Model:}            &       OLS        & \\textbf{  Adj. R-squared:    } &     0.939   \\\\\n",
       "\\textbf{Method:}           &  Least Squares   & \\textbf{  F-statistic:       } &     352.1   \\\\\n",
       "\\textbf{Date:}             & Tue, 30 Sep 2025 & \\textbf{  Prob (F-statistic):} &  5.03e-15   \\\\\n",
       "\\textbf{Time:}             &     08:00:22     & \\textbf{  Log-Likelihood:    } &   -242.89   \\\\\n",
       "\\textbf{No. Observations:} &          24      & \\textbf{  AIC:               } &     489.8   \\\\\n",
       "\\textbf{Df Residuals:}     &          22      & \\textbf{  BIC:               } &     492.1   \\\\\n",
       "\\textbf{Df Model:}         &           1      & \\textbf{                     } &             \\\\\n",
       "\\textbf{Covariance Type:}  &    nonrobust     & \\textbf{                     } &             \\\\\n",
       "\\bottomrule\n",
       "\\end{tabular}\n",
       "\\begin{tabular}{lcccccc}\n",
       "                   & \\textbf{coef} & \\textbf{std err} & \\textbf{t} & \\textbf{P$> |$t$|$} & \\textbf{[0.025} & \\textbf{0.975]}  \\\\\n",
       "\\midrule\n",
       "\\textbf{Intercept} &    2.678e+04  &     2818.687     &     9.501  &         0.000        &     2.09e+04    &     3.26e+04     \\\\\n",
       "\\textbf{AE}        &    9312.5751  &      496.279     &    18.765  &         0.000        &     8283.355    &     1.03e+04     \\\\\n",
       "\\bottomrule\n",
       "\\end{tabular}\n",
       "\\begin{tabular}{lclc}\n",
       "\\textbf{Omnibus:}       &  3.105 & \\textbf{  Durbin-Watson:     } &    2.608  \\\\\n",
       "\\textbf{Prob(Omnibus):} &  0.212 & \\textbf{  Jarque-Bera (JB):  } &    1.567  \\\\\n",
       "\\textbf{Skew:}          &  0.297 & \\textbf{  Prob(JB):          } &    0.457  \\\\\n",
       "\\textbf{Kurtosis:}      &  1.898 & \\textbf{  Cond. No.          } &     12.8  \\\\\n",
       "\\bottomrule\n",
       "\\end{tabular}\n",
       "%\\caption{OLS Regression Results}\n",
       "\\end{center}\n",
       "\n",
       "Notes: \\newline\n",
       " [1] Standard Errors assume that the covariance matrix of the errors is correctly specified."
      ],
      "text/plain": [
       "<class 'statsmodels.iolib.summary.Summary'>\n",
       "\"\"\"\n",
       "                            OLS Regression Results                            \n",
       "==============================================================================\n",
       "Dep. Variable:                Salario   R-squared:                       0.941\n",
       "Model:                            OLS   Adj. R-squared:                  0.939\n",
       "Method:                 Least Squares   F-statistic:                     352.1\n",
       "Date:                Tue, 30 Sep 2025   Prob (F-statistic):           5.03e-15\n",
       "Time:                        08:00:22   Log-Likelihood:                -242.89\n",
       "No. Observations:                  24   AIC:                             489.8\n",
       "Df Residuals:                      22   BIC:                             492.1\n",
       "Df Model:                           1                                         \n",
       "Covariance Type:            nonrobust                                         \n",
       "==============================================================================\n",
       "                 coef    std err          t      P>|t|      [0.025      0.975]\n",
       "------------------------------------------------------------------------------\n",
       "Intercept   2.678e+04   2818.687      9.501      0.000    2.09e+04    3.26e+04\n",
       "AE          9312.5751    496.279     18.765      0.000    8283.355    1.03e+04\n",
       "==============================================================================\n",
       "Omnibus:                        3.105   Durbin-Watson:                   2.608\n",
       "Prob(Omnibus):                  0.212   Jarque-Bera (JB):                1.567\n",
       "Skew:                           0.297   Prob(JB):                        0.457\n",
       "Kurtosis:                       1.898   Cond. No.                         12.8\n",
       "==============================================================================\n",
       "\n",
       "Notes:\n",
       "[1] Standard Errors assume that the covariance matrix of the errors is correctly specified.\n",
       "\"\"\""
      ]
     },
     "execution_count": 45,
     "metadata": {},
     "output_type": "execute_result"
    }
   ],
   "source": [
    "import statsmodels.formula.api as smf\n",
    "data = pd.DataFrame()\n",
    "data['AE'] = pd.DataFrame(x_train)\n",
    "data['Salario'] = pd.DataFrame(y_train)\n",
    "\n",
    "regre = smf.ols(formula='Salario ~ AE', data=data)\n",
    "regre = regre.fit()\n",
    "regre.summary()\n"
   ]
  },
  {
   "cell_type": "markdown",
   "id": "28b6e098",
   "metadata": {},
   "source": []
  },
  {
   "cell_type": "code",
   "execution_count": 53,
   "id": "d33d12e7",
   "metadata": {},
   "outputs": [
    {
     "name": "stdout",
     "output_type": "stream",
     "text": [
      "Error cuadrático medio: 8302108112.264175\n"
     ]
    },
    {
     "data": {
      "text/plain": [
       "<matplotlib.lines.Line2D at 0x1b9eafeb890>"
      ]
     },
     "execution_count": 53,
     "metadata": {},
     "output_type": "execute_result"
    },
    {
     "data": {
      "image/png": "[encoded data removed]",
      "text/plain": [
       "<Figure size 600x600 with 1 Axes>"
      ]
     },
     "metadata": {},
     "output_type": "display_data"
    }
   ],
   "source": [
    "# Sacamos la grafica de residuos (MSE)\n",
    "from sklearn.metrics import mean_squared_error\n",
    "y_pred = regresion.predict(x_test)\n",
    "residuos = y_test - y_pred\n",
    "fig = plt.figure(figsize=(6,6))\n",
    "mse = mean_squared_error(x_test, y_pred)\n",
    "print(\"Error cuadrático medio:\", mse)\n",
    "plt.scatter(y_test, residuos)\n",
    "plt.axhline(mse, color='g', linestyle='-')\n",
    "plt.axhline(-mse, color='g', linestyle='-')\n",
    "plt.axhline(y=0, color='r', linestyle='--')\n"
   ]
  },
  {
   "cell_type": "code",
   "execution_count": 61,
   "id": "75055187",
   "metadata": {},
   "outputs": [
    {
     "data": {
      "text/html": [
       "<div>\n",
       "<style scoped>\n",
       "    .dataframe tbody tr th:only-of-type {\n",
       "        vertical-align: middle;\n",
       "    }\n",
       "\n",
       "    .dataframe tbody tr th {\n",
       "        vertical-align: top;\n",
       "    }\n",
       "\n",
       "    .dataframe thead th {\n",
       "        text-align: right;\n",
       "    }\n",
       "</style>\n",
       "<table border=\"1\" class=\"dataframe\">\n",
       "  <thead>\n",
       "    <tr style=\"text-align: right;\">\n",
       "      <th></th>\n",
       "      <th>habitantes</th>\n",
       "      <th>ingresos</th>\n",
       "      <th>analfabetismo</th>\n",
       "      <th>esp_vida</th>\n",
       "      <th>asesinatos</th>\n",
       "      <th>universitarios</th>\n",
       "      <th>heladas</th>\n",
       "      <th>area</th>\n",
       "      <th>densidad_pobl</th>\n",
       "    </tr>\n",
       "  </thead>\n",
       "  <tbody>\n",
       "    <tr>\n",
       "      <th>0</th>\n",
       "      <td>3615</td>\n",
       "      <td>3624</td>\n",
       "      <td>2.1</td>\n",
       "      <td>69.05</td>\n",
       "      <td>15.1</td>\n",
       "      <td>41.3</td>\n",
       "      <td>20</td>\n",
       "      <td>50708</td>\n",
       "      <td>71.290526</td>\n",
       "    </tr>\n",
       "    <tr>\n",
       "      <th>1</th>\n",
       "      <td>365</td>\n",
       "      <td>6315</td>\n",
       "      <td>1.5</td>\n",
       "      <td>69.31</td>\n",
       "      <td>11.3</td>\n",
       "      <td>66.7</td>\n",
       "      <td>152</td>\n",
       "      <td>566432</td>\n",
       "      <td>0.644384</td>\n",
       "    </tr>\n",
       "    <tr>\n",
       "      <th>2</th>\n",
       "      <td>2212</td>\n",
       "      <td>4530</td>\n",
       "      <td>1.8</td>\n",
       "      <td>70.55</td>\n",
       "      <td>7.8</td>\n",
       "      <td>58.1</td>\n",
       "      <td>15</td>\n",
       "      <td>113417</td>\n",
       "      <td>19.503249</td>\n",
       "    </tr>\n",
       "    <tr>\n",
       "      <th>3</th>\n",
       "      <td>2110</td>\n",
       "      <td>3378</td>\n",
       "      <td>1.9</td>\n",
       "      <td>70.66</td>\n",
       "      <td>10.1</td>\n",
       "      <td>39.9</td>\n",
       "      <td>65</td>\n",
       "      <td>51945</td>\n",
       "      <td>40.619886</td>\n",
       "    </tr>\n",
       "    <tr>\n",
       "      <th>4</th>\n",
       "      <td>21198</td>\n",
       "      <td>5114</td>\n",
       "      <td>1.1</td>\n",
       "      <td>71.71</td>\n",
       "      <td>10.3</td>\n",
       "      <td>62.6</td>\n",
       "      <td>20</td>\n",
       "      <td>156361</td>\n",
       "      <td>135.570890</td>\n",
       "    </tr>\n",
       "  </tbody>\n",
       "</table>\n",
       "</div>"
      ],
      "text/plain": [
       "   habitantes  ingresos  analfabetismo  esp_vida  asesinatos  universitarios  \\\n",
       "0        3615      3624            2.1     69.05        15.1            41.3   \n",
       "1         365      6315            1.5     69.31        11.3            66.7   \n",
       "2        2212      4530            1.8     70.55         7.8            58.1   \n",
       "3        2110      3378            1.9     70.66        10.1            39.9   \n",
       "4       21198      5114            1.1     71.71        10.3            62.6   \n",
       "\n",
       "   heladas    area  densidad_pobl  \n",
       "0       20   50708      71.290526  \n",
       "1      152  566432       0.644384  \n",
       "2       15  113417      19.503249  \n",
       "3       65   51945      40.619886  \n",
       "4       20  156361     135.570890  "
      ]
     },
     "execution_count": 61,
     "metadata": {},
     "output_type": "execute_result"
    }
   ],
   "source": [
    "# Leer archivo\n",
    "dt = pd.read_csv('./vida.csv', sep=',')\n",
    "dt.head()\n"
   ]
  },
  {
   "cell_type": "code",
   "execution_count": 60,
   "id": "685d315e",
   "metadata": {},
   "outputs": [
    {
     "data": {
      "text/plain": [
       "habitantes        0\n",
       "ingresos          0\n",
       "analfabetismo     0\n",
       "esp_vida          0\n",
       "asesinatos        0\n",
       "universitarios    0\n",
       "heladas           0\n",
       "area              0\n",
       "densidad_pobl     0\n",
       "dtype: int64"
      ]
     },
     "execution_count": 60,
     "metadata": {},
     "output_type": "execute_result"
    }
   ],
   "source": [
    "dt.isna().sum()"
   ]
  },
  {
   "cell_type": "code",
   "execution_count": null,
   "id": "d6b26daa",
   "metadata": {},
   "outputs": [],
   "source": []
  },
  {
   "cell_type": "code",
   "execution_count": 72,
   "id": "68f2312f",
   "metadata": {},
   "outputs": [
    {
     "data": {
      "text/html": [
       "<div>\n",
       "<style scoped>\n",
       "    .dataframe tbody tr th:only-of-type {\n",
       "        vertical-align: middle;\n",
       "    }\n",
       "\n",
       "    .dataframe tbody tr th {\n",
       "        vertical-align: top;\n",
       "    }\n",
       "\n",
       "    .dataframe thead th {\n",
       "        text-align: right;\n",
       "    }\n",
       "</style>\n",
       "<table border=\"1\" class=\"dataframe\">\n",
       "  <thead>\n",
       "    <tr style=\"text-align: right;\">\n",
       "      <th></th>\n",
       "      <th>habitantes</th>\n",
       "      <th>ingresos</th>\n",
       "      <th>analfabetismo</th>\n",
       "      <th>esp_vida</th>\n",
       "      <th>asesinatos</th>\n",
       "      <th>universitarios</th>\n",
       "      <th>heladas</th>\n",
       "      <th>area</th>\n",
       "      <th>densidad_pobl</th>\n",
       "    </tr>\n",
       "  </thead>\n",
       "  <tbody>\n",
       "    <tr>\n",
       "      <th>habitantes</th>\n",
       "      <td>1.000000</td>\n",
       "      <td>0.208228</td>\n",
       "      <td>0.107622</td>\n",
       "      <td>-0.068052</td>\n",
       "      <td>0.343643</td>\n",
       "      <td>-0.098490</td>\n",
       "      <td>-0.332152</td>\n",
       "      <td>0.022544</td>\n",
       "      <td>0.246228</td>\n",
       "    </tr>\n",
       "    <tr>\n",
       "      <th>ingresos</th>\n",
       "      <td>0.208228</td>\n",
       "      <td>1.000000</td>\n",
       "      <td>-0.437075</td>\n",
       "      <td>0.340255</td>\n",
       "      <td>-0.230078</td>\n",
       "      <td>0.619932</td>\n",
       "      <td>0.226282</td>\n",
       "      <td>0.363315</td>\n",
       "      <td>0.329968</td>\n",
       "    </tr>\n",
       "    <tr>\n",
       "      <th>analfabetismo</th>\n",
       "      <td>0.107622</td>\n",
       "      <td>-0.437075</td>\n",
       "      <td>1.000000</td>\n",
       "      <td>-0.588478</td>\n",
       "      <td>0.702975</td>\n",
       "      <td>-0.657189</td>\n",
       "      <td>-0.671947</td>\n",
       "      <td>0.077261</td>\n",
       "      <td>0.009274</td>\n",
       "    </tr>\n",
       "    <tr>\n",
       "      <th>esp_vida</th>\n",
       "      <td>-0.068052</td>\n",
       "      <td>0.340255</td>\n",
       "      <td>-0.588478</td>\n",
       "      <td>1.000000</td>\n",
       "      <td>-0.780846</td>\n",
       "      <td>0.582216</td>\n",
       "      <td>0.262068</td>\n",
       "      <td>-0.107332</td>\n",
       "      <td>0.091062</td>\n",
       "    </tr>\n",
       "    <tr>\n",
       "      <th>asesinatos</th>\n",
       "      <td>0.343643</td>\n",
       "      <td>-0.230078</td>\n",
       "      <td>0.702975</td>\n",
       "      <td>-0.780846</td>\n",
       "      <td>1.000000</td>\n",
       "      <td>-0.487971</td>\n",
       "      <td>-0.538883</td>\n",
       "      <td>0.228390</td>\n",
       "      <td>-0.185035</td>\n",
       "    </tr>\n",
       "    <tr>\n",
       "      <th>universitarios</th>\n",
       "      <td>-0.098490</td>\n",
       "      <td>0.619932</td>\n",
       "      <td>-0.657189</td>\n",
       "      <td>0.582216</td>\n",
       "      <td>-0.487971</td>\n",
       "      <td>1.000000</td>\n",
       "      <td>0.366780</td>\n",
       "      <td>0.333542</td>\n",
       "      <td>-0.088367</td>\n",
       "    </tr>\n",
       "    <tr>\n",
       "      <th>heladas</th>\n",
       "      <td>-0.332152</td>\n",
       "      <td>0.226282</td>\n",
       "      <td>-0.671947</td>\n",
       "      <td>0.262068</td>\n",
       "      <td>-0.538883</td>\n",
       "      <td>0.366780</td>\n",
       "      <td>1.000000</td>\n",
       "      <td>0.059229</td>\n",
       "      <td>0.002277</td>\n",
       "    </tr>\n",
       "    <tr>\n",
       "      <th>area</th>\n",
       "      <td>0.022544</td>\n",
       "      <td>0.363315</td>\n",
       "      <td>0.077261</td>\n",
       "      <td>-0.107332</td>\n",
       "      <td>0.228390</td>\n",
       "      <td>0.333542</td>\n",
       "      <td>0.059229</td>\n",
       "      <td>1.000000</td>\n",
       "      <td>-0.341389</td>\n",
       "    </tr>\n",
       "    <tr>\n",
       "      <th>densidad_pobl</th>\n",
       "      <td>0.246228</td>\n",
       "      <td>0.329968</td>\n",
       "      <td>0.009274</td>\n",
       "      <td>0.091062</td>\n",
       "      <td>-0.185035</td>\n",
       "      <td>-0.088367</td>\n",
       "      <td>0.002277</td>\n",
       "      <td>-0.341389</td>\n",
       "      <td>1.000000</td>\n",
       "    </tr>\n",
       "  </tbody>\n",
       "</table>\n",
       "</div>"
      ],
      "text/plain": [
       "                habitantes  ingresos  analfabetismo  esp_vida  asesinatos  \\\n",
       "habitantes        1.000000  0.208228       0.107622 -0.068052    0.343643   \n",
       "ingresos          0.208228  1.000000      -0.437075  0.340255   -0.230078   \n",
       "analfabetismo     0.107622 -0.437075       1.000000 -0.588478    0.702975   \n",
       "esp_vida         -0.068052  0.340255      -0.588478  1.000000   -0.780846   \n",
       "asesinatos        0.343643 -0.230078       0.702975 -0.780846    1.000000   \n",
       "universitarios   -0.098490  0.619932      -0.657189  0.582216   -0.487971   \n",
       "heladas          -0.332152  0.226282      -0.671947  0.262068   -0.538883   \n",
       "area              0.022544  0.363315       0.077261 -0.107332    0.228390   \n",
       "densidad_pobl     0.246228  0.329968       0.009274  0.091062   -0.185035   \n",
       "\n",
       "                universitarios   heladas      area  densidad_pobl  \n",
       "habitantes           -0.098490 -0.332152  0.022544       0.246228  \n",
       "ingresos              0.619932  0.226282  0.363315       0.329968  \n",
       "analfabetismo        -0.657189 -0.671947  0.077261       0.009274  \n",
       "esp_vida              0.582216  0.262068 -0.107332       0.091062  \n",
       "asesinatos           -0.487971 -0.538883  0.228390      -0.185035  \n",
       "universitarios        1.000000  0.366780  0.333542      -0.088367  \n",
       "heladas               0.366780  1.000000  0.059229       0.002277  \n",
       "area                  0.333542  0.059229  1.000000      -0.341389  \n",
       "densidad_pobl        -0.088367  0.002277 -0.341389       1.000000  "
      ]
     },
     "execution_count": 72,
     "metadata": {},
     "output_type": "execute_result"
    }
   ],
   "source": [
    "dt.corr()"
   ]
  },
  {
   "cell_type": "code",
   "execution_count": 70,
   "id": "d7b9c4cb",
   "metadata": {},
   "outputs": [
    {
     "data": {
      "text/plain": [
       "Text(0.5, 1.0, 'Habitantes vs Esperanza de vida')"
      ]
     },
     "execution_count": 70,
     "metadata": {},
     "output_type": "execute_result"
    },
    {
     "data": {
      "image/png": "[encoded data removed]",
      "text/plain": [
       "<Figure size 700x400 with 1 Axes>"
      ]
     },
     "metadata": {},
     "output_type": "display_data"
    }
   ],
   "source": [
    "plt.figure(figsize=(7,4))\n",
    "plt.scatter(x=dt['analfabetismo'], y=dt['esp_vida'])\n",
    "plt.xlabel('Habitantes (en millones)')\n",
    "plt.ylabel('Esperanza de vida (en años)')\n",
    "plt.title('Habitantes vs Esperanza de vida')\n"
   ]
  },
  {
   "cell_type": "code",
   "execution_count": null,
   "id": "9c77c208",
   "metadata": {},
   "outputs": [
    {
     "data": {
      "text/plain": [
       "<Axes: xlabel='analfabetismo', ylabel='esp_vida'>"
      ]
     },
     "execution_count": 75,
     "metadata": {},
     "output_type": "execute_result"
    },
    {
     "data": {
      "image/png": "[encoded data removed]",
      "text/plain": [
       "<Figure size 640x480 with 2 Axes>"
      ]
     },
     "metadata": {},
     "output_type": "display_data"
    }
   ],
   "source": [
    "sns.heatmap(dt.corr(), annot=True, fmt='.2f', linewidths=1.5, cmap='Set2')\n"
   ]
  },
  {
   "cell_type": "code",
   "execution_count": 76,
   "id": "84b2b804",
   "metadata": {},
   "outputs": [
    {
     "name": "stdout",
     "output_type": "stream",
     "text": [
      "69.48209279419265\n",
      "[ 8.63076746e-05  1.77981685e-04  1.39437702e-01 -2.81582239e-01\n",
      "  5.08069318e-02 -2.62263936e-03 -1.47779550e-06 -1.29726020e-03]\n",
      "R2 = 75.71%\n"
     ]
    }
   ],
   "source": [
    "x = dt.drop('esp_vida', axis=1)\n",
    "y = dt['esp_vida']\n",
    "\n",
    "x_train, x_test, y_train, y_test = train_test_split(x, y, test_size=0.2, random_state=0)\n",
    "regresion = LinearRegression()\n",
    "regresion.fit(x_train, y_train)\n",
    "y_pred = regresion.predict(x_test)\n",
    "print(regresion.intercept_)\n",
    "print(regresion.coef_)\n",
    "print(f\"R2 = {regresion.score(x_train, y_train):.2%}\")"
   ]
  },
  {
   "cell_type": "code",
   "execution_count": 83,
   "id": "ab048e33",
   "metadata": {},
   "outputs": [
    {
     "data": {
      "text/html": [
       "<table class=\"simpletable\">\n",
       "<caption>OLS Regression Results</caption>\n",
       "<tr>\n",
       "  <th>Dep. Variable:</th>        <td>esp_vida</td>     <th>  R-squared:         </th> <td>   0.548</td>\n",
       "</tr>\n",
       "<tr>\n",
       "  <th>Model:</th>                   <td>OLS</td>       <th>  Adj. R-squared:    </th> <td>   0.536</td>\n",
       "</tr>\n",
       "<tr>\n",
       "  <th>Method:</th>             <td>Least Squares</td>  <th>  F-statistic:       </th> <td>   46.07</td>\n",
       "</tr>\n",
       "<tr>\n",
       "  <th>Date:</th>             <td>Tue, 30 Sep 2025</td> <th>  Prob (F-statistic):</th> <td>4.78e-08</td>\n",
       "</tr>\n",
       "<tr>\n",
       "  <th>Time:</th>                 <td>09:22:22</td>     <th>  Log-Likelihood:    </th> <td> -51.764</td>\n",
       "</tr>\n",
       "<tr>\n",
       "  <th>No. Observations:</th>      <td>    40</td>      <th>  AIC:               </th> <td>   107.5</td>\n",
       "</tr>\n",
       "<tr>\n",
       "  <th>Df Residuals:</th>          <td>    38</td>      <th>  BIC:               </th> <td>   110.9</td>\n",
       "</tr>\n",
       "<tr>\n",
       "  <th>Df Model:</th>              <td>     1</td>      <th>                     </th>     <td> </td>   \n",
       "</tr>\n",
       "<tr>\n",
       "  <th>Covariance Type:</th>      <td>nonrobust</td>    <th>                     </th>     <td> </td>   \n",
       "</tr>\n",
       "</table>\n",
       "<table class=\"simpletable\">\n",
       "<tr>\n",
       "        <td></td>           <th>coef</th>     <th>std err</th>      <th>t</th>      <th>P>|t|</th>  <th>[0.025</th>    <th>0.975]</th>  \n",
       "</tr>\n",
       "<tr>\n",
       "  <th>Intercept</th>     <td>   72.5851</td> <td>    0.305</td> <td>  238.311</td> <td> 0.000</td> <td>   71.968</td> <td>   73.202</td>\n",
       "</tr>\n",
       "<tr>\n",
       "  <th>analfabetismo</th> <td>   -1.5561</td> <td>    0.229</td> <td>   -6.787</td> <td> 0.000</td> <td>   -2.020</td> <td>   -1.092</td>\n",
       "</tr>\n",
       "</table>\n",
       "<table class=\"simpletable\">\n",
       "<tr>\n",
       "  <th>Omnibus:</th>       <td> 8.618</td> <th>  Durbin-Watson:     </th> <td>   1.448</td>\n",
       "</tr>\n",
       "<tr>\n",
       "  <th>Prob(Omnibus):</th> <td> 0.013</td> <th>  Jarque-Bera (JB):  </th> <td>   2.858</td>\n",
       "</tr>\n",
       "<tr>\n",
       "  <th>Skew:</th>          <td> 0.276</td> <th>  Prob(JB):          </th> <td>   0.240</td>\n",
       "</tr>\n",
       "<tr>\n",
       "  <th>Kurtosis:</th>      <td> 1.812</td> <th>  Cond. No.          </th> <td>    4.19</td>\n",
       "</tr>\n",
       "</table><br/><br/>Notes:<br/>[1] Standard Errors assume that the covariance matrix of the errors is correctly specified."
      ],
      "text/latex": [
       "\\begin{center}\n",
       "\\begin{tabular}{lclc}\n",
       "\\toprule\n",
       "\\textbf{Dep. Variable:}    &    esp\\_vida     & \\textbf{  R-squared:         } &     0.548   \\\\\n",
       "\\textbf{Model:}            &       OLS        & \\textbf{  Adj. R-squared:    } &     0.536   \\\\\n",
       "\\textbf{Method:}           &  Least Squares   & \\textbf{  F-statistic:       } &     46.07   \\\\\n",
       "\\textbf{Date:}             & Tue, 30 Sep 2025 & \\textbf{  Prob (F-statistic):} &  4.78e-08   \\\\\n",
       "\\textbf{Time:}             &     09:22:22     & \\textbf{  Log-Likelihood:    } &   -51.764   \\\\\n",
       "\\textbf{No. Observations:} &          40      & \\textbf{  AIC:               } &     107.5   \\\\\n",
       "\\textbf{Df Residuals:}     &          38      & \\textbf{  BIC:               } &     110.9   \\\\\n",
       "\\textbf{Df Model:}         &           1      & \\textbf{                     } &             \\\\\n",
       "\\textbf{Covariance Type:}  &    nonrobust     & \\textbf{                     } &             \\\\\n",
       "\\bottomrule\n",
       "\\end{tabular}\n",
       "\\begin{tabular}{lcccccc}\n",
       "                       & \\textbf{coef} & \\textbf{std err} & \\textbf{t} & \\textbf{P$> |$t$|$} & \\textbf{[0.025} & \\textbf{0.975]}  \\\\\n",
       "\\midrule\n",
       "\\textbf{Intercept}     &      72.5851  &        0.305     &   238.311  &         0.000        &       71.968    &       73.202     \\\\\n",
       "\\textbf{analfabetismo} &      -1.5561  &        0.229     &    -6.787  &         0.000        &       -2.020    &       -1.092     \\\\\n",
       "\\bottomrule\n",
       "\\end{tabular}\n",
       "\\begin{tabular}{lclc}\n",
       "\\textbf{Omnibus:}       &  8.618 & \\textbf{  Durbin-Watson:     } &    1.448  \\\\\n",
       "\\textbf{Prob(Omnibus):} &  0.013 & \\textbf{  Jarque-Bera (JB):  } &    2.858  \\\\\n",
       "\\textbf{Skew:}          &  0.276 & \\textbf{  Prob(JB):          } &    0.240  \\\\\n",
       "\\textbf{Kurtosis:}      &  1.812 & \\textbf{  Cond. No.          } &     4.19  \\\\\n",
       "\\bottomrule\n",
       "\\end{tabular}\n",
       "%\\caption{OLS Regression Results}\n",
       "\\end{center}\n",
       "\n",
       "Notes: \\newline\n",
       " [1] Standard Errors assume that the covariance matrix of the errors is correctly specified."
      ],
      "text/plain": [
       "<class 'statsmodels.iolib.summary.Summary'>\n",
       "\"\"\"\n",
       "                            OLS Regression Results                            \n",
       "==============================================================================\n",
       "Dep. Variable:               esp_vida   R-squared:                       0.548\n",
       "Model:                            OLS   Adj. R-squared:                  0.536\n",
       "Method:                 Least Squares   F-statistic:                     46.07\n",
       "Date:                Tue, 30 Sep 2025   Prob (F-statistic):           4.78e-08\n",
       "Time:                        09:22:22   Log-Likelihood:                -51.764\n",
       "No. Observations:                  40   AIC:                             107.5\n",
       "Df Residuals:                      38   BIC:                             110.9\n",
       "Df Model:                           1                                         \n",
       "Covariance Type:            nonrobust                                         \n",
       "=================================================================================\n",
       "                    coef    std err          t      P>|t|      [0.025      0.975]\n",
       "---------------------------------------------------------------------------------\n",
       "Intercept        72.5851      0.305    238.311      0.000      71.968      73.202\n",
       "analfabetismo    -1.5561      0.229     -6.787      0.000      -2.020      -1.092\n",
       "==============================================================================\n",
       "Omnibus:                        8.618   Durbin-Watson:                   1.448\n",
       "Prob(Omnibus):                  0.013   Jarque-Bera (JB):                2.858\n",
       "Skew:                           0.276   Prob(JB):                        0.240\n",
       "Kurtosis:                       1.812   Cond. No.                         4.19\n",
       "==============================================================================\n",
       "\n",
       "Notes:\n",
       "[1] Standard Errors assume that the covariance matrix of the errors is correctly specified.\n",
       "\"\"\""
      ]
     },
     "execution_count": 83,
     "metadata": {},
     "output_type": "execute_result"
    }
   ],
   "source": [
    "#hacer el ols\n",
    "import statsmodels.formula.api as smf\n",
    "data = pd.DataFrame()\n",
    "data['analfabetismo'] = pd.DataFrame(x_train[\"analfabetismo\"])\n",
    "data['esp_vida'] = pd.DataFrame(y_train)\n",
    "regre = smf.ols(formula='esp_vida ~ analfabetismo', data=data)\n",
    "regre = regre.fit()\n",
    "regre.summary()\n",
    "\n"
   ]
  },
  {
   "cell_type": "code",
   "execution_count": 84,
   "id": "31be78c9",
   "metadata": {},
   "outputs": [
    {
     "data": {
      "text/html": [
       "<table class=\"simpletable\">\n",
       "<caption>OLS Regression Results</caption>\n",
       "<tr>\n",
       "  <th>Dep. Variable:</th>        <td>esp_vida</td>     <th>  R-squared:         </th> <td>   0.663</td>\n",
       "</tr>\n",
       "<tr>\n",
       "  <th>Model:</th>                   <td>OLS</td>       <th>  Adj. R-squared:    </th> <td>   0.655</td>\n",
       "</tr>\n",
       "<tr>\n",
       "  <th>Method:</th>             <td>Least Squares</td>  <th>  F-statistic:       </th> <td>   74.91</td>\n",
       "</tr>\n",
       "<tr>\n",
       "  <th>Date:</th>             <td>Tue, 30 Sep 2025</td> <th>  Prob (F-statistic):</th> <td>1.61e-10</td>\n",
       "</tr>\n",
       "<tr>\n",
       "  <th>Time:</th>                 <td>09:38:42</td>     <th>  Log-Likelihood:    </th> <td> -45.864</td>\n",
       "</tr>\n",
       "<tr>\n",
       "  <th>No. Observations:</th>      <td>    40</td>      <th>  AIC:               </th> <td>   95.73</td>\n",
       "</tr>\n",
       "<tr>\n",
       "  <th>Df Residuals:</th>          <td>    38</td>      <th>  BIC:               </th> <td>   99.11</td>\n",
       "</tr>\n",
       "<tr>\n",
       "  <th>Df Model:</th>              <td>     1</td>      <th>                     </th>     <td> </td>   \n",
       "</tr>\n",
       "<tr>\n",
       "  <th>Covariance Type:</th>      <td>nonrobust</td>    <th>                     </th>     <td> </td>   \n",
       "</tr>\n",
       "</table>\n",
       "<table class=\"simpletable\">\n",
       "<tr>\n",
       "       <td></td>         <th>coef</th>     <th>std err</th>      <th>t</th>      <th>P>|t|</th>  <th>[0.025</th>    <th>0.975]</th>  \n",
       "</tr>\n",
       "<tr>\n",
       "  <th>Intercept</th>  <td>   72.9211</td> <td>    0.279</td> <td>  261.804</td> <td> 0.000</td> <td>   72.357</td> <td>   73.485</td>\n",
       "</tr>\n",
       "<tr>\n",
       "  <th>asesinatos</th> <td>   -0.2901</td> <td>    0.034</td> <td>   -8.655</td> <td> 0.000</td> <td>   -0.358</td> <td>   -0.222</td>\n",
       "</tr>\n",
       "</table>\n",
       "<table class=\"simpletable\">\n",
       "<tr>\n",
       "  <th>Omnibus:</th>       <td> 1.353</td> <th>  Durbin-Watson:     </th> <td>   2.016</td>\n",
       "</tr>\n",
       "<tr>\n",
       "  <th>Prob(Omnibus):</th> <td> 0.508</td> <th>  Jarque-Bera (JB):  </th> <td>   1.145</td>\n",
       "</tr>\n",
       "<tr>\n",
       "  <th>Skew:</th>          <td>-0.403</td> <th>  Prob(JB):          </th> <td>   0.564</td>\n",
       "</tr>\n",
       "<tr>\n",
       "  <th>Kurtosis:</th>      <td> 2.804</td> <th>  Cond. No.          </th> <td>    19.0</td>\n",
       "</tr>\n",
       "</table><br/><br/>Notes:<br/>[1] Standard Errors assume that the covariance matrix of the errors is correctly specified."
      ],
      "text/latex": [
       "\\begin{center}\n",
       "\\begin{tabular}{lclc}\n",
       "\\toprule\n",
       "\\textbf{Dep. Variable:}    &    esp\\_vida     & \\textbf{  R-squared:         } &     0.663   \\\\\n",
       "\\textbf{Model:}            &       OLS        & \\textbf{  Adj. R-squared:    } &     0.655   \\\\\n",
       "\\textbf{Method:}           &  Least Squares   & \\textbf{  F-statistic:       } &     74.91   \\\\\n",
       "\\textbf{Date:}             & Tue, 30 Sep 2025 & \\textbf{  Prob (F-statistic):} &  1.61e-10   \\\\\n",
       "\\textbf{Time:}             &     09:38:42     & \\textbf{  Log-Likelihood:    } &   -45.864   \\\\\n",
       "\\textbf{No. Observations:} &          40      & \\textbf{  AIC:               } &     95.73   \\\\\n",
       "\\textbf{Df Residuals:}     &          38      & \\textbf{  BIC:               } &     99.11   \\\\\n",
       "\\textbf{Df Model:}         &           1      & \\textbf{                     } &             \\\\\n",
       "\\textbf{Covariance Type:}  &    nonrobust     & \\textbf{                     } &             \\\\\n",
       "\\bottomrule\n",
       "\\end{tabular}\n",
       "\\begin{tabular}{lcccccc}\n",
       "                    & \\textbf{coef} & \\textbf{std err} & \\textbf{t} & \\textbf{P$> |$t$|$} & \\textbf{[0.025} & \\textbf{0.975]}  \\\\\n",
       "\\midrule\n",
       "\\textbf{Intercept}  &      72.9211  &        0.279     &   261.804  &         0.000        &       72.357    &       73.485     \\\\\n",
       "\\textbf{asesinatos} &      -0.2901  &        0.034     &    -8.655  &         0.000        &       -0.358    &       -0.222     \\\\\n",
       "\\bottomrule\n",
       "\\end{tabular}\n",
       "\\begin{tabular}{lclc}\n",
       "\\textbf{Omnibus:}       &  1.353 & \\textbf{  Durbin-Watson:     } &    2.016  \\\\\n",
       "\\textbf{Prob(Omnibus):} &  0.508 & \\textbf{  Jarque-Bera (JB):  } &    1.145  \\\\\n",
       "\\textbf{Skew:}          & -0.403 & \\textbf{  Prob(JB):          } &    0.564  \\\\\n",
       "\\textbf{Kurtosis:}      &  2.804 & \\textbf{  Cond. No.          } &     19.0  \\\\\n",
       "\\bottomrule\n",
       "\\end{tabular}\n",
       "%\\caption{OLS Regression Results}\n",
       "\\end{center}\n",
       "\n",
       "Notes: \\newline\n",
       " [1] Standard Errors assume that the covariance matrix of the errors is correctly specified."
      ],
      "text/plain": [
       "<class 'statsmodels.iolib.summary.Summary'>\n",
       "\"\"\"\n",
       "                            OLS Regression Results                            \n",
       "==============================================================================\n",
       "Dep. Variable:               esp_vida   R-squared:                       0.663\n",
       "Model:                            OLS   Adj. R-squared:                  0.655\n",
       "Method:                 Least Squares   F-statistic:                     74.91\n",
       "Date:                Tue, 30 Sep 2025   Prob (F-statistic):           1.61e-10\n",
       "Time:                        09:38:42   Log-Likelihood:                -45.864\n",
       "No. Observations:                  40   AIC:                             95.73\n",
       "Df Residuals:                      38   BIC:                             99.11\n",
       "Df Model:                           1                                         \n",
       "Covariance Type:            nonrobust                                         \n",
       "==============================================================================\n",
       "                 coef    std err          t      P>|t|      [0.025      0.975]\n",
       "------------------------------------------------------------------------------\n",
       "Intercept     72.9211      0.279    261.804      0.000      72.357      73.485\n",
       "asesinatos    -0.2901      0.034     -8.655      0.000      -0.358      -0.222\n",
       "==============================================================================\n",
       "Omnibus:                        1.353   Durbin-Watson:                   2.016\n",
       "Prob(Omnibus):                  0.508   Jarque-Bera (JB):                1.145\n",
       "Skew:                          -0.403   Prob(JB):                        0.564\n",
       "Kurtosis:                       2.804   Cond. No.                         19.0\n",
       "==============================================================================\n",
       "\n",
       "Notes:\n",
       "[1] Standard Errors assume that the covariance matrix of the errors is correctly specified.\n",
       "\"\"\""
      ]
     },
     "execution_count": 84,
     "metadata": {},
     "output_type": "execute_result"
    }
   ],
   "source": [
    "data = pd.DataFrame()\n",
    "data['asesinatos'] = pd.DataFrame(x_train[\"asesinatos\"])\n",
    "data['esp_vida'] = pd.DataFrame(y_train)\n",
    "regre = smf.ols(formula='esp_vida ~ asesinatos', data=data)\n",
    "regre = regre.fit()\n",
    "regre.summary()"
   ]
  }
 ],
 "metadata": {
  "kernelspec": {
   "display_name": "Python 3",
   "language": "python",
   "name": "python3"
  },
  "language_info": {
   "codemirror_mode": {
    "name": "ipython",
    "version": 3
   },
   "file_extension": ".py",
   "mimetype": "text/x-python",
   "name": "python",
   "nbconvert_exporter": "python",
   "pygments_lexer": "ipython3",
   "version": "3.13.7"
  }
 },
 "nbformat": 4,
 "nbformat_minor": 5
}
