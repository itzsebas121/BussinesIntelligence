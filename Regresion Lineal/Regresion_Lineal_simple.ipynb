{
 "cells": [
  {
   "cell_type": "code",
   "execution_count": 3,
   "id": "2ed2ca80",
   "metadata": {},
   "outputs": [
    {
     "data": {
      "text/html": [
       "<div>\n",
       "<style scoped>\n",
       "    .dataframe tbody tr th:only-of-type {\n",
       "        vertical-align: middle;\n",
       "    }\n",
       "\n",
       "    .dataframe tbody tr th {\n",
       "        vertical-align: top;\n",
       "    }\n",
       "\n",
       "    .dataframe thead th {\n",
       "        text-align: right;\n",
       "    }\n",
       "</style>\n",
       "<table border=\"1\" class=\"dataframe\">\n",
       "  <thead>\n",
       "    <tr style=\"text-align: right;\">\n",
       "      <th></th>\n",
       "      <th>Peso Kg</th>\n",
       "      <th>Consumo litros/100Km</th>\n",
       "    </tr>\n",
       "  </thead>\n",
       "  <tbody>\n",
       "    <tr>\n",
       "      <th>0</th>\n",
       "      <td>981</td>\n",
       "      <td>11</td>\n",
       "    </tr>\n",
       "    <tr>\n",
       "      <th>1</th>\n",
       "      <td>878</td>\n",
       "      <td>12</td>\n",
       "    </tr>\n",
       "    <tr>\n",
       "      <th>2</th>\n",
       "      <td>708</td>\n",
       "      <td>8</td>\n",
       "    </tr>\n",
       "    <tr>\n",
       "      <th>3</th>\n",
       "      <td>1138</td>\n",
       "      <td>11</td>\n",
       "    </tr>\n",
       "    <tr>\n",
       "      <th>4</th>\n",
       "      <td>1064</td>\n",
       "      <td>13</td>\n",
       "    </tr>\n",
       "  </tbody>\n",
       "</table>\n",
       "</div>"
      ],
      "text/plain": [
       "   Peso Kg  Consumo litros/100Km\n",
       "0      981                    11\n",
       "1      878                    12\n",
       "2      708                     8\n",
       "3     1138                    11\n",
       "4     1064                    13"
      ]
     },
     "execution_count": 3,
     "metadata": {},
     "output_type": "execute_result"
    }
   ],
   "source": [
    "import pandas as pd\n",
    "datos = pd.read_excel(\"./Peso y Consumo.xlsx\")\n",
    "datos = datos.drop(\"No\", axis=1)\n",
    "datos = datos.rename(columns={\"Peso (Kg)\":\"Peso\",\"Consumo (L/100Km)\":\"Consumo\"})\n",
    "datos.head()"
   ]
  },
  {
   "cell_type": "code",
   "execution_count": 4,
   "id": "3bb0bd8e",
   "metadata": {},
   "outputs": [
    {
     "name": "stdout",
     "output_type": "stream",
     "text": [
      "<class 'pandas.core.frame.DataFrame'>\n",
      "RangeIndex: 30 entries, 0 to 29\n",
      "Data columns (total 2 columns):\n",
      " #   Column                Non-Null Count  Dtype\n",
      "---  ------                --------------  -----\n",
      " 0   Peso Kg               30 non-null     int64\n",
      " 1   Consumo litros/100Km  30 non-null     int64\n",
      "dtypes: int64(2)\n",
      "memory usage: 612.0 bytes\n"
     ]
    }
   ],
   "source": [
    "datos.info()"
   ]
  },
  {
   "cell_type": "code",
   "execution_count": 5,
   "id": "c60a3173",
   "metadata": {},
   "outputs": [
    {
     "data": {
      "text/plain": [
       "<matplotlib.collections.PathCollection at 0x1fcb2270ec0>"
      ]
     },
     "execution_count": 5,
     "metadata": {},
     "output_type": "execute_result"
    },
    {
     "data": {
      "image/png": "[encoded data removed]",
      "text/plain": [
       "<Figure size 640x480 with 1 Axes>"
      ]
     },
     "metadata": {},
     "output_type": "display_data"
    }
   ],
   "source": [
    "import matplotlib.pyplot as plt\n",
    "import numpy as np\n",
    "plt.scatter(datos[\"Peso Kg\"], datos[\"Consumo litros/100Km\"])\n"
   ]
  },
  {
   "cell_type": "code",
   "execution_count": null,
   "id": "383602f5",
   "metadata": {},
   "outputs": [
    {
     "name": "stdout",
     "output_type": "stream",
     "text": [
      "Collecting Jinja2\n",
      "  Downloading jinja2-3.1.6-py3-none-any.whl.metadata (2.9 kB)\n",
      "Collecting MarkupSafe>=2.0 (from Jinja2)\n",
      "  Downloading markupsafe-3.0.3-cp313-cp313-win_amd64.whl.metadata (2.8 kB)\n",
      "Downloading jinja2-3.1.6-py3-none-any.whl (134 kB)\n",
      "Downloading markupsafe-3.0.3-cp313-cp313-win_amd64.whl (15 kB)\n",
      "Installing collected packages: MarkupSafe, Jinja2\n",
      "\n",
      "   -------------------- ------------------- 1/2 [Jinja2]\n",
      "   ---------------------------------------- 2/2 [Jinja2]\n",
      "\n",
      "Successfully installed Jinja2-3.1.6 MarkupSafe-3.0.3\n"
     ]
    },
    {
     "data": {
      "text/html": [
       "<style type=\"text/css\">\n",
       "#T_05fae_row0_col0, #T_05fae_row1_col1 {\n",
       "  background-color: blue;\n",
       "}\n",
       "</style>\n",
       "<table id=\"T_05fae\">\n",
       "  <thead>\n",
       "    <tr>\n",
       "      <th class=\"blank level0\" >&nbsp;</th>\n",
       "      <th id=\"T_05fae_level0_col0\" class=\"col_heading level0 col0\" >Peso Kg</th>\n",
       "      <th id=\"T_05fae_level0_col1\" class=\"col_heading level0 col1\" >Consumo litros/100Km</th>\n",
       "    </tr>\n",
       "  </thead>\n",
       "  <tbody>\n",
       "    <tr>\n",
       "      <th id=\"T_05fae_level0_row0\" class=\"row_heading level0 row0\" >Peso Kg</th>\n",
       "      <td id=\"T_05fae_row0_col0\" class=\"data row0 col0\" >1.000000</td>\n",
       "      <td id=\"T_05fae_row0_col1\" class=\"data row0 col1\" >0.928509</td>\n",
       "    </tr>\n",
       "    <tr>\n",
       "      <th id=\"T_05fae_level0_row1\" class=\"row_heading level0 row1\" >Consumo litros/100Km</th>\n",
       "      <td id=\"T_05fae_row1_col0\" class=\"data row1 col0\" >0.928509</td>\n",
       "      <td id=\"T_05fae_row1_col1\" class=\"data row1 col1\" >1.000000</td>\n",
       "    </tr>\n",
       "  </tbody>\n",
       "</table>\n"
      ],
      "text/plain": [
       "<pandas.io.formats.style.Styler at 0x1fcb23cf620>"
      ]
     },
     "execution_count": 6,
     "metadata": {},
     "output_type": "execute_result"
    }
   ],
   "source": [
    "#!pip install Jinja2\n",
    "datos.corr().style.highlight_max(color=\"blue\")"
   ]
  },
  {
   "cell_type": "code",
   "execution_count": 7,
   "id": "cdebaf43",
   "metadata": {},
   "outputs": [
    {
     "data": {
      "text/plain": [
       "[<matplotlib.lines.Line2D at 0x1fcb4507c50>]"
      ]
     },
     "execution_count": 7,
     "metadata": {},
     "output_type": "execute_result"
    },
    {
     "data": {
      "image/png": "[encoded data removed]",
      "text/plain": [
       "<Figure size 640x480 with 1 Axes>"
      ]
     },
     "metadata": {},
     "output_type": "display_data"
    }
   ],
   "source": [
    "x = datos[[\"Peso Kg\"]]\n",
    "y = datos[[\"Consumo litros/100Km\"]]\n",
    "coeficientes = np.polyfit(x[\"Peso Kg\"], y[\"Consumo litros/100Km\"], 2)\n",
    "polinomio = np.poly1d(coeficientes)\n",
    "x_nuevo = np.linspace(x.min(), x.max(), 2)\n",
    "y_nuevo = polinomio(x_nuevo)\n",
    "plt.scatter(x, y, label='Datos Originales')\n",
    "plt.plot(x_nuevo, y_nuevo, color='red', label=f'Ajuste Polinomial de Grado {2}')"
   ]
  },
  {
   "cell_type": "code",
   "execution_count": 8,
   "id": "3c009991",
   "metadata": {},
   "outputs": [
    {
     "name": "stdout",
     "output_type": "stream",
     "text": [
      "Ecuación: y = -0.07126060818422175 + 0.01173068517017775 * x\n"
     ]
    },
    {
     "data": {
      "text/plain": [
       "0.8621293337804034"
      ]
     },
     "execution_count": 8,
     "metadata": {},
     "output_type": "execute_result"
    }
   ],
   "source": [
    "from sklearn.linear_model import LinearRegression\n",
    "modelo = LinearRegression()\n",
    "modelo.fit(x,y)\n",
    "print(\"Ecuación: y =\", modelo.intercept_[0], \"+\", modelo.coef_[0][0], \"* x\")\n",
    "modelo.score(x,y)"
   ]
  },
  {
   "cell_type": "code",
   "execution_count": 9,
   "id": "509718c9",
   "metadata": {},
   "outputs": [
    {
     "name": "stdout",
     "output_type": "stream",
     "text": [
      "Error cuadrático medio: 2.2218623809433677\n"
     ]
    },
    {
     "data": {
      "text/plain": [
       "<matplotlib.lines.Line2D at 0x1fcc5b51950>"
      ]
     },
     "execution_count": 9,
     "metadata": {},
     "output_type": "execute_result"
    },
    {
     "data": {
      "image/png": "[encoded data removed]",
      "text/plain": [
       "<Figure size 600x600 with 1 Axes>"
      ]
     },
     "metadata": {},
     "output_type": "display_data"
    }
   ],
   "source": [
    "from sklearn.metrics import mean_squared_error\n",
    "y_pred = modelo.predict(x)\n",
    "residuos = y - y_pred\n",
    "fig = plt.figure(figsize=(6,6))\n",
    "mse = mean_squared_error(y, y_pred)\n",
    "print(\"Error cuadrático medio:\", mse)\n",
    "plt.scatter(y, residuos)\n",
    "plt.axhline(mse, color='g', linestyle='-')\n",
    "plt.axhline(-mse, color='g', linestyle='-')\n",
    "plt.axhline(y=0, color='r', linestyle='--')"
   ]
  },
  {
   "cell_type": "code",
   "execution_count": 10,
   "id": "0e90bfa0",
   "metadata": {},
   "outputs": [
    {
     "name": "stdout",
     "output_type": "stream",
     "text": [
      "Ecuación: y = 0.11752745971073608 + 0.011532739167449412 * x\n",
      "Score: 0.7844254580589514\n"
     ]
    }
   ],
   "source": [
    "from sklearn.model_selection import train_test_split\n",
    "\n",
    "\n",
    "X_train, X_test, y_train, y_test = train_test_split(\n",
    "    x,\n",
    "    y,\n",
    "    test_size=0.20,\n",
    "    random_state=0\n",
    ")\n",
    "regresion = LinearRegression()\n",
    "regresion.fit(X_train, y_train)\n",
    "print(\"Ecuación: y =\", regresion.intercept_[0], \"+\", regresion.coef_[0][0], \"* x\")\n",
    "score = regresion.score(X_train, y_train)\n",
    "print(\"Score:\", score)"
   ]
  },
  {
   "cell_type": "code",
   "execution_count": 11,
   "id": "013b1ce3",
   "metadata": {},
   "outputs": [
    {
     "name": "stdout",
     "output_type": "stream",
     "text": [
      "Error cuadrático medio: 0.20894660499925796\n"
     ]
    },
    {
     "data": {
      "text/plain": [
       "<matplotlib.lines.Line2D at 0x1fcc5bed310>"
      ]
     },
     "execution_count": 11,
     "metadata": {},
     "output_type": "execute_result"
    },
    {
     "data": {
      "image/png": "[encoded data removed]",
      "text/plain": [
       "<Figure size 600x600 with 1 Axes>"
      ]
     },
     "metadata": {},
     "output_type": "display_data"
    }
   ],
   "source": [
    "y_pred = regresion.predict(X_test)\n",
    "residuos = y_test - y_pred\n",
    "fig = plt.figure(figsize=(6,6))\n",
    "mse = mean_squared_error(y_test, y_pred)\n",
    "print(\"Error cuadrático medio:\", mse)\n",
    "plt.scatter(y_test, residuos)\n",
    "plt.axhline(mse, color='g', linestyle='-')\n",
    "plt.axhline(-mse, color='g', linestyle='-')\n",
    "plt.axhline(y=0, color='r', linestyle='--')"
   ]
  },
  {
   "cell_type": "code",
   "execution_count": 16,
   "id": "62cec205",
   "metadata": {},
   "outputs": [
    {
     "name": "stdout",
     "output_type": "stream",
     "text": [
      "                                OLS Regression Results                               \n",
      "=====================================================================================\n",
      "Dep. Variable:     Q(\"Consumo litros/100Km\")   R-squared:                       0.784\n",
      "Model:                                   OLS   Adj. R-squared:                  0.775\n",
      "Method:                        Least Squares   F-statistic:                     80.05\n",
      "Date:                       Tue, 30 Sep 2025   Prob (F-statistic):           8.77e-09\n",
      "Time:                               07:22:53   Log-Likelihood:                -46.107\n",
      "No. Observations:                         24   AIC:                             96.21\n",
      "Df Residuals:                             22   BIC:                             98.57\n",
      "Df Model:                                  1                                         \n",
      "Covariance Type:                   nonrobust                                         \n",
      "================================================================================\n",
      "                   coef    std err          t      P>|t|      [0.025      0.975]\n",
      "--------------------------------------------------------------------------------\n",
      "Intercept        0.1175      1.325      0.089      0.930      -2.629       2.864\n",
      "Q(\"Peso Kg\")     0.0115      0.001      8.947      0.000       0.009       0.014\n",
      "==============================================================================\n",
      "Omnibus:                        0.678   Durbin-Watson:                   1.772\n",
      "Prob(Omnibus):                  0.712   Jarque-Bera (JB):                0.729\n",
      "Skew:                          -0.236   Prob(JB):                        0.694\n",
      "Kurtosis:                       2.288   Cond. No.                     3.86e+03\n",
      "==============================================================================\n",
      "\n",
      "Notes:\n",
      "[1] Standard Errors assume that the covariance matrix of the errors is correctly specified.\n",
      "[2] The condition number is large, 3.86e+03. This might indicate that there are\n",
      "strong multicollinearity or other numerical problems.\n"
     ]
    }
   ],
   "source": [
    "#!pip install statsmodels\n",
    "import statsmodels.api as sm\n",
    "import statsmodels.formula.api as smf\n",
    "datos_train=X_train.join(y_train)\n",
    "from patsy import dmatrices, ModelDesc, Term, EvalFactor\n",
    "\n",
    "modelo = smf.ols(formula='Q(\"Consumo litros/100Km\") ~ Q(\"Peso Kg\")', data=datos_train).fit()\n",
    "print(modelo.summary())"
   ]
  }
 ],
 "metadata": {
  "kernelspec": {
   "display_name": "Python 3",
   "language": "python",
   "name": "python3"
  },
  "language_info": {
   "codemirror_mode": {
    "name": "ipython",
    "version": 3
   },
   "file_extension": ".py",
   "mimetype": "text/x-python",
   "name": "python",
   "nbconvert_exporter": "python",
   "pygments_lexer": "ipython3",
   "version": "3.13.7"
  }
 },
 "nbformat": 4,
 "nbformat_minor": 5
}
